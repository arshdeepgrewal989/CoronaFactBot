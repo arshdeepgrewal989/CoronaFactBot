{
  "nbformat": 4,
  "nbformat_minor": 0,
  "metadata": {
    "colab": {
      "name": "Corona Facts.ipynb",
      "provenance": [],
      "collapsed_sections": [],
      "authorship_tag": "ABX9TyPIPYWoZro46S6VP75pdSDu",
      "include_colab_link": true
    },
    "kernelspec": {
      "name": "python3",
      "display_name": "Python 3"
    }
  },
  "cells": [
    {
      "cell_type": "markdown",
      "metadata": {
        "id": "view-in-github",
        "colab_type": "text"
      },
      "source": [
        "<a href=\"https://colab.research.google.com/github/arshdeepgrewal989/CoronaFactBot/blob/master/Corona_Facts.ipynb\" target=\"_parent\"><img src=\"https://colab.research.google.com/assets/colab-badge.svg\" alt=\"Open In Colab\"/></a>"
      ]
    },
    {
      "cell_type": "code",
      "metadata": {
        "id": "9C-G9UQm-Azc",
        "colab_type": "code",
        "outputId": "7b2dbb16-3f62-4a17-ec89-ffa8f3bc1a68",
        "colab": {
          "base_uri": "https://localhost:8080/",
          "height": 51
        }
      },
      "source": [
        "#Description: sellf learnign chatbot\n",
        "\n",
        "#intalling NLTK package\n",
        "pip install nltk\n"
      ],
      "execution_count": 0,
      "outputs": [
        {
          "output_type": "stream",
          "text": [
            "Requirement already satisfied: nltk in /usr/local/lib/python3.6/dist-packages (3.2.5)\n",
            "Requirement already satisfied: six in /usr/local/lib/python3.6/dist-packages (from nltk) (1.12.0)\n"
          ],
          "name": "stdout"
        }
      ]
    },
    {
      "cell_type": "code",
      "metadata": {
        "id": "7lJLNC_fcTqr",
        "colab_type": "code",
        "outputId": "57166e0e-b47c-45f1-89ca-a2c7e567fd0e",
        "colab": {
          "base_uri": "https://localhost:8080/",
          "height": 870
        }
      },
      "source": [
        "pip install newspaper3k\n"
      ],
      "execution_count": 0,
      "outputs": [
        {
          "output_type": "stream",
          "text": [
            "Collecting newspaper3k\n",
            "\u001b[?25l  Downloading https://files.pythonhosted.org/packages/d7/b9/51afecb35bb61b188a4b44868001de348a0e8134b4dfa00ffc191567c4b9/newspaper3k-0.2.8-py3-none-any.whl (211kB)\n",
            "\u001b[K     |████████████████████████████████| 215kB 3.4MB/s \n",
            "\u001b[?25hCollecting feedfinder2>=0.0.4\n",
            "  Downloading https://files.pythonhosted.org/packages/35/82/1251fefec3bb4b03fd966c7e7f7a41c9fc2bb00d823a34c13f847fd61406/feedfinder2-0.0.4.tar.gz\n",
            "Requirement already satisfied: nltk>=3.2.1 in /usr/local/lib/python3.6/dist-packages (from newspaper3k) (3.2.5)\n",
            "Requirement already satisfied: requests>=2.10.0 in /usr/local/lib/python3.6/dist-packages (from newspaper3k) (2.21.0)\n",
            "Requirement already satisfied: beautifulsoup4>=4.4.1 in /usr/local/lib/python3.6/dist-packages (from newspaper3k) (4.6.3)\n",
            "Collecting cssselect>=0.9.2\n",
            "  Downloading https://files.pythonhosted.org/packages/3b/d4/3b5c17f00cce85b9a1e6f91096e1cc8e8ede2e1be8e96b87ce1ed09e92c5/cssselect-1.1.0-py2.py3-none-any.whl\n",
            "Requirement already satisfied: PyYAML>=3.11 in /usr/local/lib/python3.6/dist-packages (from newspaper3k) (3.13)\n",
            "Collecting jieba3k>=0.35.1\n",
            "\u001b[?25l  Downloading https://files.pythonhosted.org/packages/a9/cb/2c8332bcdc14d33b0bedd18ae0a4981a069c3513e445120da3c3f23a8aaa/jieba3k-0.35.1.zip (7.4MB)\n",
            "\u001b[K     |████████████████████████████████| 7.4MB 8.0MB/s \n",
            "\u001b[?25hCollecting tinysegmenter==0.3\n",
            "  Downloading https://files.pythonhosted.org/packages/17/82/86982e4b6d16e4febc79c2a1d68ee3b707e8a020c5d2bc4af8052d0f136a/tinysegmenter-0.3.tar.gz\n",
            "Collecting tldextract>=2.0.1\n",
            "\u001b[?25l  Downloading https://files.pythonhosted.org/packages/fd/0e/9ab599d6e78f0340bb1d1e28ddeacb38c8bb7f91a1b0eae9a24e9603782f/tldextract-2.2.2-py2.py3-none-any.whl (48kB)\n",
            "\u001b[K     |████████████████████████████████| 51kB 6.2MB/s \n",
            "\u001b[?25hRequirement already satisfied: python-dateutil>=2.5.3 in /usr/local/lib/python3.6/dist-packages (from newspaper3k) (2.8.1)\n",
            "Requirement already satisfied: Pillow>=3.3.0 in /usr/local/lib/python3.6/dist-packages (from newspaper3k) (7.0.0)\n",
            "Requirement already satisfied: lxml>=3.6.0 in /usr/local/lib/python3.6/dist-packages (from newspaper3k) (4.2.6)\n",
            "Collecting feedparser>=5.2.1\n",
            "\u001b[?25l  Downloading https://files.pythonhosted.org/packages/91/d8/7d37fec71ff7c9dbcdd80d2b48bcdd86d6af502156fc93846fb0102cb2c4/feedparser-5.2.1.tar.bz2 (192kB)\n",
            "\u001b[K     |████████████████████████████████| 194kB 52.3MB/s \n",
            "\u001b[?25hRequirement already satisfied: six in /usr/local/lib/python3.6/dist-packages (from feedfinder2>=0.0.4->newspaper3k) (1.12.0)\n",
            "Requirement already satisfied: idna<2.9,>=2.5 in /usr/local/lib/python3.6/dist-packages (from requests>=2.10.0->newspaper3k) (2.8)\n",
            "Requirement already satisfied: chardet<3.1.0,>=3.0.2 in /usr/local/lib/python3.6/dist-packages (from requests>=2.10.0->newspaper3k) (3.0.4)\n",
            "Requirement already satisfied: certifi>=2017.4.17 in /usr/local/lib/python3.6/dist-packages (from requests>=2.10.0->newspaper3k) (2019.11.28)\n",
            "Requirement already satisfied: urllib3<1.25,>=1.21.1 in /usr/local/lib/python3.6/dist-packages (from requests>=2.10.0->newspaper3k) (1.24.3)\n",
            "Requirement already satisfied: setuptools in /usr/local/lib/python3.6/dist-packages (from tldextract>=2.0.1->newspaper3k) (46.0.0)\n",
            "Collecting requests-file>=1.4\n",
            "  Downloading https://files.pythonhosted.org/packages/23/9c/6e63c23c39e53d3df41c77a3d05a49a42c4e1383a6d2a5e3233161b89dbf/requests_file-1.4.3-py2.py3-none-any.whl\n",
            "Building wheels for collected packages: feedfinder2, jieba3k, tinysegmenter, feedparser\n",
            "  Building wheel for feedfinder2 (setup.py) ... \u001b[?25l\u001b[?25hdone\n",
            "  Created wheel for feedfinder2: filename=feedfinder2-0.0.4-cp36-none-any.whl size=3357 sha256=81bdaac341d070f64b3d8170566d567a14e9f37444055e60a9052783fac43036\n",
            "  Stored in directory: /root/.cache/pip/wheels/de/03/ca/778e3a7a627e3d98836cc890e7cb40c7575424cfd3340f40ed\n",
            "  Building wheel for jieba3k (setup.py) ... \u001b[?25l\u001b[?25hdone\n",
            "  Created wheel for jieba3k: filename=jieba3k-0.35.1-cp36-none-any.whl size=7398406 sha256=af1907bb87812f97a8acf9b69819589cc90d92adec4ae2a337183dfa0f6f602c\n",
            "  Stored in directory: /root/.cache/pip/wheels/83/15/9c/a3f1f67e7f7181170ad37d32e503c35da20627c013f438ed34\n",
            "  Building wheel for tinysegmenter (setup.py) ... \u001b[?25l\u001b[?25hdone\n",
            "  Created wheel for tinysegmenter: filename=tinysegmenter-0.3-cp36-none-any.whl size=13539 sha256=7cd11d97f2565a09ee097ada42514320e9443f42f15158b2abea7d518b751858\n",
            "  Stored in directory: /root/.cache/pip/wheels/81/2b/43/a02ede72324dd40cdd7ca53aad718c7710628e91b8b0dc0f02\n",
            "  Building wheel for feedparser (setup.py) ... \u001b[?25l\u001b[?25hdone\n",
            "  Created wheel for feedparser: filename=feedparser-5.2.1-cp36-none-any.whl size=44940 sha256=6bbbc0e2088d2e276504efbba71da559a6a02487e51b236da481d7e030b1addf\n",
            "  Stored in directory: /root/.cache/pip/wheels/8c/69/b7/f52763c41c5471df57703a0ef718a32a5e81ee35dcf6d4f97f\n",
            "Successfully built feedfinder2 jieba3k tinysegmenter feedparser\n",
            "Installing collected packages: feedfinder2, cssselect, jieba3k, tinysegmenter, requests-file, tldextract, feedparser, newspaper3k\n",
            "Successfully installed cssselect-1.1.0 feedfinder2-0.0.4 feedparser-5.2.1 jieba3k-0.35.1 newspaper3k-0.2.8 requests-file-1.4.3 tinysegmenter-0.3 tldextract-2.2.2\n"
          ],
          "name": "stdout"
        }
      ]
    },
    {
      "cell_type": "code",
      "metadata": {
        "id": "xsl2BxI8hSd7",
        "colab_type": "code",
        "colab": {}
      },
      "source": [
        "#importing required libraries\n",
        "\n",
        "from newspaper import Article\n",
        "import random \n",
        "import string\n",
        "from sklearn.feature_extraction.text import TfidfVectorizer\n",
        "from sklearn.metrics.pairwise import cosine_similarity\n",
        "import nltk\n",
        "import numpy as np\n",
        "import warnings\n",
        "\n"
      ],
      "execution_count": 0,
      "outputs": []
    },
    {
      "cell_type": "code",
      "metadata": {
        "id": "VilUEgZRm7KY",
        "colab_type": "code",
        "colab": {}
      },
      "source": [
        "#ignore all warnings\n",
        "warnings.filterwarnings('ignore')"
      ],
      "execution_count": 0,
      "outputs": []
    },
    {
      "cell_type": "code",
      "metadata": {
        "id": "2ZmpBaAanBF8",
        "colab_type": "code",
        "outputId": "d81b4aa8-3f33-4554-d498-ae91572e7889",
        "colab": {
          "base_uri": "https://localhost:8080/",
          "height": 102
        }
      },
      "source": [
        "#downloading required packages from nltk\n",
        "nltk.download('punkt')\n",
        "nltk.download('wordnet')"
      ],
      "execution_count": 0,
      "outputs": [
        {
          "output_type": "stream",
          "text": [
            "[nltk_data] Downloading package punkt to /root/nltk_data...\n",
            "[nltk_data]   Unzipping tokenizers/punkt.zip.\n",
            "[nltk_data] Downloading package wordnet to /root/nltk_data...\n",
            "[nltk_data]   Unzipping corpora/wordnet.zip.\n"
          ],
          "name": "stdout"
        },
        {
          "output_type": "execute_result",
          "data": {
            "text/plain": [
              "True"
            ]
          },
          "metadata": {
            "tags": []
          },
          "execution_count": 7
        }
      ]
    },
    {
      "cell_type": "code",
      "metadata": {
        "id": "5xBtAAWRnMIm",
        "colab_type": "code",
        "outputId": "c72d0afb-a469-4f05-de99-aba797487687",
        "colab": {
          "base_uri": "https://localhost:8080/",
          "height": 1000
        }
      },
      "source": [
        "article= Article('https://en.wikipedia.org/wiki/Coronavirus')\n",
        "article.download()\n",
        "article.parse()\n",
        "article.nlp()\n",
        "\n",
        "#assign the text to variable\n",
        "corpus = article.text   \n",
        "\n",
        "print(corpus)\n",
        "\n"
      ],
      "execution_count": 0,
      "outputs": [
        {
          "output_type": "stream",
          "text": [
            "Subfamily of viruses in the family Coronaviridae\n",
            "\n",
            "Coronaviruses are a group of related viruses that cause diseases in mammals and birds. In humans, coronaviruses cause respiratory tract infections that can be mild, such as some cases of the common cold (among other possible causes, predominantly rhinoviruses), and others that can be lethal, such as SARS, MERS, and COVID-19. Symptoms in other species vary: in chickens, they cause an upper respiratory tract disease, while in cows and pigs they cause diarrhea. There are yet to be vaccines or antiviral drugs to prevent or treat human coronavirus infections.\n",
            "\n",
            "Coronaviruses constitute the subfamily Orthocoronavirinae, in the family Coronaviridae, order Nidovirales, and realm Riboviria.[5][6] They are enveloped viruses with a positive-sense single-stranded RNA genome and a nucleocapsid of helical symmetry. The genome size of coronaviruses ranges from approximately 27 to 34 kilobases, the largest among known RNA viruses.[7] The name coronavirus is derived from the Latin corona, meaning \"crown\" or \"halo\", which refers to the characteristic appearance reminiscent of a crown or a solar corona around the virions (virus particles) when viewed under two-dimensional transmission electron microscopy, due to the surface being covered in club-shaped protein spikes.\n",
            "\n",
            "Discovery\n",
            "\n",
            "Human coronaviruses were first discovered in the late 1960s.[8] The earliest ones discovered were an infectious bronchitis virus in chickens and two in human patients with the common cold (later named human coronavirus 229E and human coronavirus OC43).[9] Other members of this family have since been identified, including SARS-CoV in 2003, HCoV NL63 in 2004, HKU1 in 2005, MERS-CoV in 2012, and SARS-CoV-2 (formerly known as 2019-nCoV) in 2019. Most of these have involved serious respiratory tract infections.\n",
            "\n",
            "Etymology\n",
            "\n",
            "The name \"coronavirus\" is derived from Latin corona, meaning \"crown\" or \"wreath\", itself a borrowing from Greek κορώνη korṓnē, \"garland, wreath\". The name refers to the characteristic appearance of virions (the infective form of the virus) by electron microscopy, which have a fringe of large, bulbous surface projections creating an image reminiscent of a crown or of a solar corona. This morphology is created by the viral spike peplomers, which are proteins on the surface of the virus.[10][11]\n",
            "\n",
            "Morphology\n",
            "\n",
            "Cross-sectional model of a coronavirus\n",
            "\n",
            "Coronaviruses are large pleomorphic spherical particles with bulbous surface projections.[12] The diameter of the virus particles is around 120 nm.[13] The envelope of the virus in electron micrographs appears as a distinct pair of electron dense shells.[14]\n",
            "\n",
            "The viral envelope consists of a lipid bilayer where the membrane (M), envelope (E) and spike (S) structural proteins are anchored.[15] A subset of coronaviruses (specifically the members of betacoronavirus subgroup A) also have a shorter spike-like surface protein called hemagglutinin esterase (HE).[5]\n",
            "\n",
            "Inside the envelope, there is the nucleocapsid, which is formed from multiple copies of the nucleocapsid (N) protein, which are bound to the positive-sense single-stranded RNA genome in a continuous beads-on-a-string type conformation.[13][16] The lipid bilayer envelope, membrane proteins, and nucleocapsid protect the virus when it is outside the host cell.[17]\n",
            "\n",
            "Genome\n",
            "\n",
            "Schematic representation of the genome organization and functional domains of S protein for SARS-CoV and MERS-CoV.\n",
            "\n",
            "Coronaviruses contain a positive-sense, single-stranded RNA genome. The genome size for coronaviruses ranges from approximately 27 to 34 kilobases.[7] The genome size is one of the largest among RNA viruses. The genome has a 5′ methylated cap and a 3′ polyadenylated tail.[18]\n",
            "\n",
            "The genome organization for a coronavirus is 5′-leader-UTR-replicase/transcriptase-spike (S)-envelope (E)-membrane (M)-nucleocapsid (N)-3′UTR-poly (A) tail. The open reading frames 1a and 1b, which occupy the first two-thirds of the genome, encode the replicase/transcriptase polyprotein. The replicase/transcriptase polyprotein self cleaves to form the nonstructural proteins (nsps).[19]\n",
            "\n",
            "The later reading frames encode the four major structural proteins: spike, envelope, membrane, and nucleocapsid.[20] Interspersed between these reading frames are the reading frames for the accessory proteins. The number of accessory proteins and their function is unique depending on the specific coronavirus.[19]\n",
            "\n",
            "Life cycle\n",
            "\n",
            "Entry\n",
            "\n",
            "The life cycle of a coronavirus\n",
            "\n",
            "Infection begins when the viral spike (S) glycoprotein attaches to its complementary host cell receptor. After attachment, a protease of the host cell cleaves and activates the receptor-attached spike protein. Depending on the host cell protease available, cleavage and activation allows the virus to enter the host cell by endocytosis or direct fusion of the viral envelop with the host membrane.[21]\n",
            "\n",
            "On entry into the host cell, the virus particle is uncoated, and its genome enters the cell cytoplasm.[22] The coronavirus RNA genome has a 5′ methylated cap and a 3′ polyadenylated tail, which allows the RNA to attach to the host cell's ribosome for translation.[23] The host ribosome translates the initial overlapping open reading frame of the virus genome and forms a long polyprotein. The polyprotein has its own proteases which cleave the polyprotein into multiple nonstructural proteins.[19]\n",
            "\n",
            "Replication\n",
            "\n",
            "A number of the nonstructural proteins coalesce to form a multi-protein replicase-transcriptase complex (RTC). The main replicase-transcriptase protein is the RNA-dependent RNA polymerase (RdRp). It is directly involved in the replication and transcription of RNA from an RNA strand. The other nonstructural proteins in the complex assist in the replication and transcription process. The exoribonuclease non-structural protein, for instance, provides extra fidelity to replication by providing a proofreading function which the RNA-dependent RNA polymerase lacks.[24]\n",
            "\n",
            "One of the main functions of the complex is to replicate the viral genome. RdRp directly mediates the synthesis of negative-sense genomic RNA from the positive-sense genomic RNA. This is followed by the replication of positive-sense genomic RNA from the negative-sense genomic RNA.[19] The other important function of the complex is to transcribe the viral genome. RdRp directly mediates the synthesis of negative-sense subgenomic RNA molecules from the positive-sense genomic RNA. This is followed by the transcription of these negative-sense subgenomic RNA molecules to their corresponding positive-sense mRNAs.[19]\n",
            "\n",
            "Release\n",
            "\n",
            "The replicated positive-sense genomic RNA becomes the genome of the progeny viruses. The mRNAs are gene transcripts of the last third of the virus genome after the initial overlapping reading frame. These mRNAs are translated by the host's ribosomes into the structural proteins and a number of accessory proteins.[19] RNA translation occurs inside the endoplasmic reticulum. The viral structural proteins S, E, and M move along the secretory pathway into the Golgi intermediate compartment. There, the M proteins direct most protein-protein interactions required for assembly of viruses following its binding to the nucleocapsid.[25] Progeny viruses are then released from the host cell by exocytosis through secretory vesicles.[25]\n",
            "\n",
            "Transmission\n",
            "\n",
            "Human to human transmission of coronaviruses is primarily thought to occur among close contacts via respiratory droplets generated by sneezing and coughing.[26] The interaction of the coronavirus spike protein with its complement host cell receptor is central in determining the tissue tropism, infectivity, and species range of the virus.[27][28] The SARS coronavirus, for example, infects human cells by attaching to the angiotensin-converting enzyme 2 (ACE2) receptor.[29]\n",
            "\n",
            "Taxonomy\n",
            "\n",
            "For a more detailed list of members, see Coronaviridae\n",
            "\n",
            "Phylogenetic tree of coronaviruses\n",
            "\n",
            "The scientific name for coronavirus is Orthocoronavirinae or Coronavirinae.[2][3][4] Coronavirus belongs to the family of Coronaviridae.\n",
            "\n",
            "Evolution\n",
            "\n",
            "The most recent common ancestor (MRCA) of all coronaviruses has been estimated to have existed as recently as 8000 BCE, though some models place the MRCA as far back as 55 million years or more, implying long term coevolution with bats.[30] The MRCAs of the alphacoronavirus line has been placed at about 2400 BCE, the betacoronavirus line at 3300 BCE, the gammacoronavirus line at 2800 BCE, and the deltacoronavirus line at about 3000 BCE. It appears that bats and birds, as warm-blooded flying vertebrates, are ideal hosts for the coronavirus gene source (with bats for alphacoronavirus and betacoronavirus, and birds for gammacoronavirus and deltacoronavirus) to fuel coronavirus evolution and dissemination.[31]\n",
            "\n",
            "Bovine coronavirus and canine respiratory coronaviruses diverged from a common ancestor recently (~ 1950).[32] Bovine coronavirus and human coronavirus OC43 diverged around the 1890s. Bovine coronavirus diverged from the equine coronavirus species at the end of the 18th century.[33]\n",
            "\n",
            "The MRCA of human coronavirus OC43 has been dated to the 1950s.[34]\n",
            "\n",
            "MERS-CoV, although related to several bat coronavirus species, appears to have diverged from these several centuries ago.[35] The human coronavirus NL63 and a bat coronavirus shared an MRCA 563–822 years ago.[36]\n",
            "\n",
            "The most closely related bat coronavirus and SARS-CoV diverged in 1986.[37] A path of evolution of the SARS virus and keen relationship with bats have been proposed. The authors suggest that the coronaviruses have been coevolved with bats for a long time and the ancestors of SARS-CoV first infected the species of the genus Hipposideridae, subsequently spread to species of the Rhinolophidae and then to civets, and finally to humans.[38][39]\n",
            "\n",
            "Alpaca coronavirus and human coronavirus 229E diverged before 1960.[40]\n",
            "\n",
            "Human coronaviruses\n",
            "\n",
            "Illustration of SARSr-CoV virion\n",
            "\n",
            "Coronaviruses vary significantly in risk factor. Some can kill more than 30% of those infected (such as MERS-CoV), and some are relatively harmless, such as the common cold.[19] Coronaviruses cause colds with major symptoms, such as fever, and sore throat from swollen adenoids, occurring primarily in the winter and early spring seasons.[41] Coronaviruses can cause pneumonia (either direct viral pneumonia or a secondary bacterial pneumonia) and bronchitis (either direct viral bronchitis or a secondary bacterial bronchitis).[42] The much publicized human coronavirus discovered in 2003, SARS-CoV, which causes severe acute respiratory syndrome (SARS), has a unique pathogenesis because it causes both upper and lower respiratory tract infections.[42]\n",
            "\n",
            "Seven strains of human coronaviruses are known, of which four produce the generally mild symptoms of the common cold:\n",
            "\n",
            "– and three, symptoms that are potentially severe:\n",
            "\n",
            "The coronaviruses HCoV-229E, -NL63, -OC43, and -HKU1 continually circulate in the human population and cause respiratory infections in adults and children world-wide.[43]\n",
            "\n",
            "Outbreaks of coronavirus-related diseases\n",
            "\n",
            "Outbreaks of coronavirus types of relatively high mortality are as follows:\n",
            "\n",
            "Severe acute respiratory syndrome (SARS)\n",
            "\n",
            "In 2003, following the outbreak of severe acute respiratory syndrome (SARS) which had begun the prior year in Asia, and secondary cases elsewhere in the world, the World Health Organization (WHO) issued a press release stating that a novel coronavirus identified by a number of laboratories was the causative agent for SARS. The virus was officially named the SARS coronavirus (SARS-CoV). More than 8,000 people were infected, about ten percent of whom died.[29]\n",
            "\n",
            "Middle East respiratory syndrome (MERS)\n",
            "\n",
            "In September 2012, a new type of coronavirus was identified, initially called Novel Coronavirus 2012, and now officially named Middle East respiratory syndrome coronavirus (MERS-CoV).[49][50] The World Health Organization issued a global alert soon after.[51] The WHO update on 28 September 2012 said the virus did not seem to pass easily from person to person.[52] However, on 12 May 2013, a case of human-to-human transmission in France was confirmed by the French Ministry of Social Affairs and Health.[53] In addition, cases of human-to-human transmission were reported by the Ministry of Health in Tunisia. Two confirmed cases involved people who seemed to have caught the disease from their late father, who became ill after a visit to Qatar and Saudi Arabia. Despite this, it appears the virus had trouble spreading from human to human, as most individuals who are infected do not transmit the virus.[54] By 30 October 2013, there were 124 cases and 52 deaths in Saudi Arabia.[55]\n",
            "\n",
            "After the Dutch Erasmus Medical Centre sequenced the virus, the virus was given a new name, Human Coronavirus–Erasmus Medical Centre (HCoV-EMC). The final name for the virus is Middle East respiratory syndrome coronavirus (MERS-CoV). In May 2014, the only two United States cases of MERS-CoV infection were recorded, both occurring in healthcare workers who worked in Saudi Arabia and then travelled to the U.S. One was treated in Indiana and one in Florida. Both were hospitalized temporarily and then discharged.[56]\n",
            "\n",
            "In May 2015, an outbreak of MERS-CoV occurred in the Republic of Korea, when a man who had traveled to the Middle East, visited 4 hospitals in the Seoul area to treat his illness. This caused one of the largest outbreaks of MERS-CoV outside the Middle East.[57] As of December 2019, 2,468 cases of MERS-CoV infection had been confirmed by laboratory tests, 851 of which were fatal, a mortality rate of approximately 34.5%.[58]\n",
            "\n",
            "Coronavirus disease 2019 (COVID-19)\n",
            "\n",
            "Characteristics of patients\n",
            "\n",
            "who have been infected with\n",
            "\n",
            "SARS-CoV-2, MERS-CoV, and SARS-CoV[59] ( ) SARS-CoV-2[a] MERS-CoV SARS-CoV Demographic Detection date December 2019 June 2012 November 2002 Detection place Wuhan, China Jeddah, Saudi Arabia Guangdong, China Age average 49 56 39.9 Age range[ clarification needed ] 21–76 14–94 1–91 Male:female ratio 2.7:1 3.3:1 1:1.25 Confirmed cases 207,855[b] 2494 8096 Case fatality rate 8,648[b] (4.2%) 858 (37%) 744 (10%) Health-care workers 16[c] 9.8% 23.1% Symptoms Fever 40 (98%) 98% 99–100% Dry cough 31 (76%) 47% 29–75% Dyspnea 22 (55%) 72% 40–42% Diarrhea 1 (3%) 26% 20–25% Sore throat 0 21% 13–25% Ventilatory support 9.8% 80% 14–20% Notes\n",
            "\n",
            "^ Symptoms were based on the first 41 patients. a b Data as of 18 March 2020. ^ Data as of 21 January 2020; other data up to 21 January 2020. Published on 24 January 2020.\n",
            "\n",
            "In December 2019, a pneumonia outbreak was reported in Wuhan, China.[60] On 31 December 2019, the outbreak was traced to a novel strain of coronavirus,[61] which was given the interim name 2019-nCoV by the World Health Organization (WHO),[62][63][64] later renamed SARS-CoV-2 by the International Committee on Taxonomy of Viruses. Some researchers have suggested that the Huanan Seafood Wholesale Market may not be the original source of viral transmission to humans.[65][66]\n",
            "\n",
            "As of 28 March 2020, there have been at least 28,823[48] confirmed deaths and more than 615,519[48] confirmed cases in the coronavirus pneumonia pandemic. The Wuhan strain has been identified as a new strain of Betacoronavirus from group 2B with approximately 70% genetic similarity to the SARS-CoV.[67] The virus has a 96% similarity to a bat coronavirus, so it is widely suspected to originate from bats as well.[65][68] The pandemic has resulted in travel restrictions and nationwide lockdowns in several countries.\n",
            "\n",
            "Other animals\n",
            "\n",
            "Coronaviruses have been recognized as causing pathological conditions in veterinary medicine since the early 1970s. Except for avian infectious bronchitis, the major related diseases have mainly an intestinal location.[69]\n",
            "\n",
            "Diseases caused\n",
            "\n",
            "Coronaviruses primarily infect the upper respiratory and gastrointestinal tract of mammals and birds. They also cause a range of diseases in farm animals and domesticated pets, some of which can be serious and are a threat to the farming industry. In chickens, the infectious bronchitis virus (IBV), a coronavirus, targets not only the respiratory tract but also the urogenital tract. The virus can spread to different organs throughout the chicken.[70] Economically significant coronaviruses of farm animals include porcine coronavirus (transmissible gastroenteritis coronavirus, TGE) and bovine coronavirus, which both result in diarrhea in young animals. Feline coronavirus: two forms, feline enteric coronavirus is a pathogen of minor clinical significance, but spontaneous mutation of this virus can result in feline infectious peritonitis (FIP), a disease associated with high mortality. Similarly, there are two types of coronavirus that infect ferrets: Ferret enteric coronavirus causes a gastrointestinal syndrome known as epizootic catarrhal enteritis (ECE), and a more lethal systemic version of the virus (like FIP in cats) known as ferret systemic coronavirus (FSC).[71] There are two types of canine coronavirus (CCoV), one that causes mild gastrointestinal disease and one that has been found to cause respiratory disease. Mouse hepatitis virus (MHV) is a coronavirus that causes an epidemic murine illness with high mortality, especially among colonies of laboratory mice.[72] Sialodacryoadenitis virus (SDAV) is highly infectious coronavirus of laboratory rats, which can be transmitted between individuals by direct contact and indirectly by aerosol. Acute infections have high morbidity and tropism for the salivary, lachrymal and harderian glands.[73]\n",
            "\n",
            "A HKU2-related bat coronavirus called swine acute diarrhea syndrome coronavirus (SADS-CoV) causes diarrhea in pigs.[74]\n",
            "\n",
            "Prior to the discovery of SARS-CoV, MHV had been the best-studied coronavirus both in vivo and in vitro as well as at the molecular level. Some strains of MHV cause a progressive demyelinating encephalitis in mice which has been used as a murine model for multiple sclerosis. Significant research efforts have been focused on elucidating the viral pathogenesis of these animal coronaviruses, especially by virologists interested in veterinary and zoonotic diseases.[75]\n",
            "\n",
            "In domestic animals\n",
            "\n",
            "Genomic cis-acting elements\n",
            "\n",
            "In common with the genomes of all other RNA viruses, coronavirus genomes contain cis-acting RNA elements that ensure the specific replication of viral RNA by a virally encoded RNA-dependent RNA polymerase. The embedded cis-acting elements devoted to coronavirus replication constitute a small fraction of the total genome, but this is presumed to be a reflection of the fact that coronaviruses have the largest genomes of all RNA viruses. The boundaries of cis-acting elements essential to replication are fairly well-defined, and the RNA secondary structures of these regions are understood. However, how these cis-acting structures and sequences interact with the viral replicase and host cell components to allow RNA synthesis is not well understood.[81][5]\n",
            "\n",
            "Genome packaging\n",
            "\n",
            "The assembly of infectious coronavirus particles requires the selection of viral genomic RNA from a cellular pool that contains an abundant excess of non-viral and viral RNAs. Among the seven to ten specific viral mRNAs synthesized in virus-infected cells, only the full-length genomic RNA is packaged efficiently into coronavirus particles. Studies have revealed cis-acting elements and trans-acting viral factors involved in the coronavirus genome encapsidation and packaging. Understanding the molecular mechanisms of genome selection and packaging is critical for developing antiviral strategies and viral expression vectors based on the coronavirus genome.[81][5]\n",
            "\n",
            "See also\n",
            "\n",
            "References\n"
          ],
          "name": "stdout"
        }
      ]
    },
    {
      "cell_type": "code",
      "metadata": {
        "id": "7UMhb6OVNeLC",
        "colab_type": "code",
        "outputId": "a01f6032-47d2-46bc-c044-58a495146449",
        "colab": {
          "base_uri": "https://localhost:8080/",
          "height": 54
        }
      },
      "source": [
        "#toakenization\n",
        "\n",
        "text= corpus\n",
        "sent_tokens= nltk.sent_tokenize(text)\n",
        "\n",
        "print(sent_tokens)"
      ],
      "execution_count": 0,
      "outputs": [
        {
          "output_type": "stream",
          "text": [
            "['Subfamily of viruses in the family Coronaviridae\\n\\nCoronaviruses are a group of related viruses that cause diseases in mammals and birds.', 'In humans, coronaviruses cause respiratory tract infections that can be mild, such as some cases of the common cold (among other possible causes, predominantly rhinoviruses), and others that can be lethal, such as SARS, MERS, and COVID-19.', 'Symptoms in other species vary: in chickens, they cause an upper respiratory tract disease, while in cows and pigs they cause diarrhea.', 'There are yet to be vaccines or antiviral drugs to prevent or treat human coronavirus infections.', 'Coronaviruses constitute the subfamily Orthocoronavirinae, in the family Coronaviridae, order Nidovirales, and realm Riboviria.', '[5][6] They are enveloped viruses with a positive-sense single-stranded RNA genome and a nucleocapsid of helical symmetry.', 'The genome size of coronaviruses ranges from approximately 27 to 34 kilobases, the largest among known RNA viruses.', '[7] The name coronavirus is derived from the Latin corona, meaning \"crown\" or \"halo\", which refers to the characteristic appearance reminiscent of a crown or a solar corona around the virions (virus particles) when viewed under two-dimensional transmission electron microscopy, due to the surface being covered in club-shaped protein spikes.', 'Discovery\\n\\nHuman coronaviruses were first discovered in the late 1960s.', '[8] The earliest ones discovered were an infectious bronchitis virus in chickens and two in human patients with the common cold (later named human coronavirus 229E and human coronavirus OC43).', '[9] Other members of this family have since been identified, including SARS-CoV in 2003, HCoV NL63 in 2004, HKU1 in 2005, MERS-CoV in 2012, and SARS-CoV-2 (formerly known as 2019-nCoV) in 2019.', 'Most of these have involved serious respiratory tract infections.', 'Etymology\\n\\nThe name \"coronavirus\" is derived from Latin corona, meaning \"crown\" or \"wreath\", itself a borrowing from Greek κορώνη korṓnē, \"garland, wreath\".', 'The name refers to the characteristic appearance of virions (the infective form of the virus) by electron microscopy, which have a fringe of large, bulbous surface projections creating an image reminiscent of a crown or of a solar corona.', 'This morphology is created by the viral spike peplomers, which are proteins on the surface of the virus.', '[10][11]\\n\\nMorphology\\n\\nCross-sectional model of a coronavirus\\n\\nCoronaviruses are large pleomorphic spherical particles with bulbous surface projections.', '[12] The diameter of the virus particles is around 120 nm.', '[13] The envelope of the virus in electron micrographs appears as a distinct pair of electron dense shells.', '[14]\\n\\nThe viral envelope consists of a lipid bilayer where the membrane (M), envelope (E) and spike (S) structural proteins are anchored.', '[15] A subset of coronaviruses (specifically the members of betacoronavirus subgroup A) also have a shorter spike-like surface protein called hemagglutinin esterase (HE).', '[5]\\n\\nInside the envelope, there is the nucleocapsid, which is formed from multiple copies of the nucleocapsid (N) protein, which are bound to the positive-sense single-stranded RNA genome in a continuous beads-on-a-string type conformation.', '[13][16] The lipid bilayer envelope, membrane proteins, and nucleocapsid protect the virus when it is outside the host cell.', '[17]\\n\\nGenome\\n\\nSchematic representation of the genome organization and functional domains of S protein for SARS-CoV and MERS-CoV.', 'Coronaviruses contain a positive-sense, single-stranded RNA genome.', 'The genome size for coronaviruses ranges from approximately 27 to 34 kilobases.', '[7] The genome size is one of the largest among RNA viruses.', 'The genome has a 5′ methylated cap and a 3′ polyadenylated tail.', '[18]\\n\\nThe genome organization for a coronavirus is 5′-leader-UTR-replicase/transcriptase-spike (S)-envelope (E)-membrane (M)-nucleocapsid (N)-3′UTR-poly (A) tail.', 'The open reading frames 1a and 1b, which occupy the first two-thirds of the genome, encode the replicase/transcriptase polyprotein.', 'The replicase/transcriptase polyprotein self cleaves to form the nonstructural proteins (nsps).', '[19]\\n\\nThe later reading frames encode the four major structural proteins: spike, envelope, membrane, and nucleocapsid.', '[20] Interspersed between these reading frames are the reading frames for the accessory proteins.', 'The number of accessory proteins and their function is unique depending on the specific coronavirus.', '[19]\\n\\nLife cycle\\n\\nEntry\\n\\nThe life cycle of a coronavirus\\n\\nInfection begins when the viral spike (S) glycoprotein attaches to its complementary host cell receptor.', 'After attachment, a protease of the host cell cleaves and activates the receptor-attached spike protein.', 'Depending on the host cell protease available, cleavage and activation allows the virus to enter the host cell by endocytosis or direct fusion of the viral envelop with the host membrane.', '[21]\\n\\nOn entry into the host cell, the virus particle is uncoated, and its genome enters the cell cytoplasm.', \"[22] The coronavirus RNA genome has a 5′ methylated cap and a 3′ polyadenylated tail, which allows the RNA to attach to the host cell's ribosome for translation.\", '[23] The host ribosome translates the initial overlapping open reading frame of the virus genome and forms a long polyprotein.', 'The polyprotein has its own proteases which cleave the polyprotein into multiple nonstructural proteins.', '[19]\\n\\nReplication\\n\\nA number of the nonstructural proteins coalesce to form a multi-protein replicase-transcriptase complex (RTC).', 'The main replicase-transcriptase protein is the RNA-dependent RNA polymerase (RdRp).', 'It is directly involved in the replication and transcription of RNA from an RNA strand.', 'The other nonstructural proteins in the complex assist in the replication and transcription process.', 'The exoribonuclease non-structural protein, for instance, provides extra fidelity to replication by providing a proofreading function which the RNA-dependent RNA polymerase lacks.', '[24]\\n\\nOne of the main functions of the complex is to replicate the viral genome.', 'RdRp directly mediates the synthesis of negative-sense genomic RNA from the positive-sense genomic RNA.', 'This is followed by the replication of positive-sense genomic RNA from the negative-sense genomic RNA.', '[19] The other important function of the complex is to transcribe the viral genome.', 'RdRp directly mediates the synthesis of negative-sense subgenomic RNA molecules from the positive-sense genomic RNA.', 'This is followed by the transcription of these negative-sense subgenomic RNA molecules to their corresponding positive-sense mRNAs.', '[19]\\n\\nRelease\\n\\nThe replicated positive-sense genomic RNA becomes the genome of the progeny viruses.', 'The mRNAs are gene transcripts of the last third of the virus genome after the initial overlapping reading frame.', \"These mRNAs are translated by the host's ribosomes into the structural proteins and a number of accessory proteins.\", '[19] RNA translation occurs inside the endoplasmic reticulum.', 'The viral structural proteins S, E, and M move along the secretory pathway into the Golgi intermediate compartment.', 'There, the M proteins direct most protein-protein interactions required for assembly of viruses following its binding to the nucleocapsid.', '[25] Progeny viruses are then released from the host cell by exocytosis through secretory vesicles.', '[25]\\n\\nTransmission\\n\\nHuman to human transmission of coronaviruses is primarily thought to occur among close contacts via respiratory droplets generated by sneezing and coughing.', '[26] The interaction of the coronavirus spike protein with its complement host cell receptor is central in determining the tissue tropism, infectivity, and species range of the virus.', '[27][28] The SARS coronavirus, for example, infects human cells by attaching to the angiotensin-converting enzyme 2 (ACE2) receptor.', '[29]\\n\\nTaxonomy\\n\\nFor a more detailed list of members, see Coronaviridae\\n\\nPhylogenetic tree of coronaviruses\\n\\nThe scientific name for coronavirus is Orthocoronavirinae or Coronavirinae.', '[2][3][4] Coronavirus belongs to the family of Coronaviridae.', 'Evolution\\n\\nThe most recent common ancestor (MRCA) of all coronaviruses has been estimated to have existed as recently as 8000 BCE, though some models place the MRCA as far back as 55 million years or more, implying long term coevolution with bats.', '[30] The MRCAs of the alphacoronavirus line has been placed at about 2400 BCE, the betacoronavirus line at 3300 BCE, the gammacoronavirus line at 2800 BCE, and the deltacoronavirus line at about 3000 BCE.', 'It appears that bats and birds, as warm-blooded flying vertebrates, are ideal hosts for the coronavirus gene source (with bats for alphacoronavirus and betacoronavirus, and birds for gammacoronavirus and deltacoronavirus) to fuel coronavirus evolution and dissemination.', '[31]\\n\\nBovine coronavirus and canine respiratory coronaviruses diverged from a common ancestor recently (~ 1950).', '[32] Bovine coronavirus and human coronavirus OC43 diverged around the 1890s.', 'Bovine coronavirus diverged from the equine coronavirus species at the end of the 18th century.', '[33]\\n\\nThe MRCA of human coronavirus OC43 has been dated to the 1950s.', '[34]\\n\\nMERS-CoV, although related to several bat coronavirus species, appears to have diverged from these several centuries ago.', '[35] The human coronavirus NL63 and a bat coronavirus shared an MRCA 563–822 years ago.', '[36]\\n\\nThe most closely related bat coronavirus and SARS-CoV diverged in 1986.', '[37] A path of evolution of the SARS virus and keen relationship with bats have been proposed.', 'The authors suggest that the coronaviruses have been coevolved with bats for a long time and the ancestors of SARS-CoV first infected the species of the genus Hipposideridae, subsequently spread to species of the Rhinolophidae and then to civets, and finally to humans.', '[38][39]\\n\\nAlpaca coronavirus and human coronavirus 229E diverged before 1960.', '[40]\\n\\nHuman coronaviruses\\n\\nIllustration of SARSr-CoV virion\\n\\nCoronaviruses vary significantly in risk factor.', 'Some can kill more than 30% of those infected (such as MERS-CoV), and some are relatively harmless, such as the common cold.', '[19] Coronaviruses cause colds with major symptoms, such as fever, and sore throat from swollen adenoids, occurring primarily in the winter and early spring seasons.', '[41] Coronaviruses can cause pneumonia (either direct viral pneumonia or a secondary bacterial pneumonia) and bronchitis (either direct viral bronchitis or a secondary bacterial bronchitis).', '[42] The much publicized human coronavirus discovered in 2003, SARS-CoV, which causes severe acute respiratory syndrome (SARS), has a unique pathogenesis because it causes both upper and lower respiratory tract infections.', '[42]\\n\\nSeven strains of human coronaviruses are known, of which four produce the generally mild symptoms of the common cold:\\n\\n– and three, symptoms that are potentially severe:\\n\\nThe coronaviruses HCoV-229E, -NL63, -OC43, and -HKU1 continually circulate in the human population and cause respiratory infections in adults and children world-wide.', '[43]\\n\\nOutbreaks of coronavirus-related diseases\\n\\nOutbreaks of coronavirus types of relatively high mortality are as follows:\\n\\nSevere acute respiratory syndrome (SARS)\\n\\nIn 2003, following the outbreak of severe acute respiratory syndrome (SARS) which had begun the prior year in Asia, and secondary cases elsewhere in the world, the World Health Organization (WHO) issued a press release stating that a novel coronavirus identified by a number of laboratories was the causative agent for SARS.', 'The virus was officially named the SARS coronavirus (SARS-CoV).', 'More than 8,000 people were infected, about ten percent of whom died.', '[29]\\n\\nMiddle East respiratory syndrome (MERS)\\n\\nIn September 2012, a new type of coronavirus was identified, initially called Novel Coronavirus 2012, and now officially named Middle East respiratory syndrome coronavirus (MERS-CoV).', '[49][50] The World Health Organization issued a global alert soon after.', '[51] The WHO update on 28 September 2012 said the virus did not seem to pass easily from person to person.', '[52] However, on 12 May 2013, a case of human-to-human transmission in France was confirmed by the French Ministry of Social Affairs and Health.', '[53] In addition, cases of human-to-human transmission were reported by the Ministry of Health in Tunisia.', 'Two confirmed cases involved people who seemed to have caught the disease from their late father, who became ill after a visit to Qatar and Saudi Arabia.', 'Despite this, it appears the virus had trouble spreading from human to human, as most individuals who are infected do not transmit the virus.', '[54] By 30 October 2013, there were 124 cases and 52 deaths in Saudi Arabia.', '[55]\\n\\nAfter the Dutch Erasmus Medical Centre sequenced the virus, the virus was given a new name, Human Coronavirus–Erasmus Medical Centre (HCoV-EMC).', 'The final name for the virus is Middle East respiratory syndrome coronavirus (MERS-CoV).', 'In May 2014, the only two United States cases of MERS-CoV infection were recorded, both occurring in healthcare workers who worked in Saudi Arabia and then travelled to the U.S. One was treated in Indiana and one in Florida.', 'Both were hospitalized temporarily and then discharged.', '[56]\\n\\nIn May 2015, an outbreak of MERS-CoV occurred in the Republic of Korea, when a man who had traveled to the Middle East, visited 4 hospitals in the Seoul area to treat his illness.', 'This caused one of the largest outbreaks of MERS-CoV outside the Middle East.', '[57] As of December 2019, 2,468 cases of MERS-CoV infection had been confirmed by laboratory tests, 851 of which were fatal, a mortality rate of approximately 34.5%.', '[58]\\n\\nCoronavirus disease 2019 (COVID-19)\\n\\nCharacteristics of patients\\n\\nwho have been infected with\\n\\nSARS-CoV-2, MERS-CoV, and SARS-CoV[59] ( ) SARS-CoV-2[a] MERS-CoV SARS-CoV Demographic Detection date December 2019 June 2012 November 2002 Detection place Wuhan, China Jeddah, Saudi Arabia Guangdong, China Age average 49 56 39.9 Age range[ clarification needed ] 21–76 14–94 1–91 Male:female ratio 2.7:1 3.3:1 1:1.25 Confirmed cases 207,855[b] 2494 8096 Case fatality rate 8,648[b] (4.2%) 858 (37%) 744 (10%) Health-care workers 16[c] 9.8% 23.1% Symptoms Fever 40 (98%) 98% 99–100% Dry cough 31 (76%) 47% 29–75% Dyspnea 22 (55%) 72% 40–42% Diarrhea 1 (3%) 26% 20–25% Sore throat 0 21% 13–25% Ventilatory support 9.8% 80% 14–20% Notes\\n\\n^ Symptoms were based on the first 41 patients.', 'a b Data as of 18 March 2020.', '^ Data as of 21 January 2020; other data up to 21 January 2020.', 'Published on 24 January 2020.', 'In December 2019, a pneumonia outbreak was reported in Wuhan, China.', '[60] On 31 December 2019, the outbreak was traced to a novel strain of coronavirus,[61] which was given the interim name 2019-nCoV by the World Health Organization (WHO),[62][63][64] later renamed SARS-CoV-2 by the International Committee on Taxonomy of Viruses.', 'Some researchers have suggested that the Huanan Seafood Wholesale Market may not be the original source of viral transmission to humans.', '[65][66]\\n\\nAs of 28 March 2020, there have been at least 28,823[48] confirmed deaths and more than 615,519[48] confirmed cases in the coronavirus pneumonia pandemic.', 'The Wuhan strain has been identified as a new strain of Betacoronavirus from group 2B with approximately 70% genetic similarity to the SARS-CoV.', '[67] The virus has a 96% similarity to a bat coronavirus, so it is widely suspected to originate from bats as well.', '[65][68] The pandemic has resulted in travel restrictions and nationwide lockdowns in several countries.', 'Other animals\\n\\nCoronaviruses have been recognized as causing pathological conditions in veterinary medicine since the early 1970s.', 'Except for avian infectious bronchitis, the major related diseases have mainly an intestinal location.', '[69]\\n\\nDiseases caused\\n\\nCoronaviruses primarily infect the upper respiratory and gastrointestinal tract of mammals and birds.', 'They also cause a range of diseases in farm animals and domesticated pets, some of which can be serious and are a threat to the farming industry.', 'In chickens, the infectious bronchitis virus (IBV), a coronavirus, targets not only the respiratory tract but also the urogenital tract.', 'The virus can spread to different organs throughout the chicken.', '[70] Economically significant coronaviruses of farm animals include porcine coronavirus (transmissible gastroenteritis coronavirus, TGE) and bovine coronavirus, which both result in diarrhea in young animals.', 'Feline coronavirus: two forms, feline enteric coronavirus is a pathogen of minor clinical significance, but spontaneous mutation of this virus can result in feline infectious peritonitis (FIP), a disease associated with high mortality.', 'Similarly, there are two types of coronavirus that infect ferrets: Ferret enteric coronavirus causes a gastrointestinal syndrome known as epizootic catarrhal enteritis (ECE), and a more lethal systemic version of the virus (like FIP in cats) known as ferret systemic coronavirus (FSC).', '[71] There are two types of canine coronavirus (CCoV), one that causes mild gastrointestinal disease and one that has been found to cause respiratory disease.', 'Mouse hepatitis virus (MHV) is a coronavirus that causes an epidemic murine illness with high mortality, especially among colonies of laboratory mice.', '[72] Sialodacryoadenitis virus (SDAV) is highly infectious coronavirus of laboratory rats, which can be transmitted between individuals by direct contact and indirectly by aerosol.', 'Acute infections have high morbidity and tropism for the salivary, lachrymal and harderian glands.', '[73]\\n\\nA HKU2-related bat coronavirus called swine acute diarrhea syndrome coronavirus (SADS-CoV) causes diarrhea in pigs.', '[74]\\n\\nPrior to the discovery of SARS-CoV, MHV had been the best-studied coronavirus both in vivo and in vitro as well as at the molecular level.', 'Some strains of MHV cause a progressive demyelinating encephalitis in mice which has been used as a murine model for multiple sclerosis.', 'Significant research efforts have been focused on elucidating the viral pathogenesis of these animal coronaviruses, especially by virologists interested in veterinary and zoonotic diseases.', '[75]\\n\\nIn domestic animals\\n\\nGenomic cis-acting elements\\n\\nIn common with the genomes of all other RNA viruses, coronavirus genomes contain cis-acting RNA elements that ensure the specific replication of viral RNA by a virally encoded RNA-dependent RNA polymerase.', 'The embedded cis-acting elements devoted to coronavirus replication constitute a small fraction of the total genome, but this is presumed to be a reflection of the fact that coronaviruses have the largest genomes of all RNA viruses.', 'The boundaries of cis-acting elements essential to replication are fairly well-defined, and the RNA secondary structures of these regions are understood.', 'However, how these cis-acting structures and sequences interact with the viral replicase and host cell components to allow RNA synthesis is not well understood.', '[81][5]\\n\\nGenome packaging\\n\\nThe assembly of infectious coronavirus particles requires the selection of viral genomic RNA from a cellular pool that contains an abundant excess of non-viral and viral RNAs.', 'Among the seven to ten specific viral mRNAs synthesized in virus-infected cells, only the full-length genomic RNA is packaged efficiently into coronavirus particles.', 'Studies have revealed cis-acting elements and trans-acting viral factors involved in the coronavirus genome encapsidation and packaging.', 'Understanding the molecular mechanisms of genome selection and packaging is critical for developing antiviral strategies and viral expression vectors based on the coronavirus genome.', '[81][5]\\n\\nSee also\\n\\nReferences']\n"
          ],
          "name": "stdout"
        }
      ]
    },
    {
      "cell_type": "code",
      "metadata": {
        "id": "WaDRmUrxOQm8",
        "colab_type": "code",
        "outputId": "8a453439-0d79-4d62-b0fb-5d40aed5f225",
        "colab": {
          "base_uri": "https://localhost:8080/",
          "height": 71
        }
      },
      "source": [
        "#now we setup a dictionary to remove all punctionations for us\n",
        "\n",
        "remove_punct= dict( (ord(punct), None) for punct in string.punctuation)\n",
        "\n",
        "print(string.punctuation)\n",
        "\n",
        "print(remove_punct)"
      ],
      "execution_count": 0,
      "outputs": [
        {
          "output_type": "stream",
          "text": [
            "!\"#$%&'()*+,-./:;<=>?@[\\]^_`{|}~\n",
            "{33: None, 34: None, 35: None, 36: None, 37: None, 38: None, 39: None, 40: None, 41: None, 42: None, 43: None, 44: None, 45: None, 46: None, 47: None, 58: None, 59: None, 60: None, 61: None, 62: None, 63: None, 64: None, 91: None, 92: None, 93: None, 94: None, 95: None, 96: None, 123: None, 124: None, 125: None, 126: None}\n"
          ],
          "name": "stdout"
        }
      ]
    },
    {
      "cell_type": "code",
      "metadata": {
        "id": "AfT3C9mJOWUV",
        "colab_type": "code",
        "outputId": "a2522349-ac84-413e-c4c4-e3a135a527c9",
        "colab": {
          "base_uri": "https://localhost:8080/",
          "height": 54
        }
      },
      "source": [
        "#create a function to return list of lemmatizied lower cased words after reemove_punc\n",
        "\n",
        "def LemNormalize(text):\n",
        "  return nltk.word_tokenize(text.lower().translate(remove_punct))\n",
        "\n",
        "print(LemNormalize(text))"
      ],
      "execution_count": 0,
      "outputs": [
        {
          "output_type": "stream",
          "text": [
            "['subfamily', 'of', 'viruses', 'in', 'the', 'family', 'coronaviridae', 'coronaviruses', 'are', 'a', 'group', 'of', 'related', 'viruses', 'that', 'cause', 'diseases', 'in', 'mammals', 'and', 'birds', 'in', 'humans', 'coronaviruses', 'cause', 'respiratory', 'tract', 'infections', 'that', 'can', 'be', 'mild', 'such', 'as', 'some', 'cases', 'of', 'the', 'common', 'cold', 'among', 'other', 'possible', 'causes', 'predominantly', 'rhinoviruses', 'and', 'others', 'that', 'can', 'be', 'lethal', 'such', 'as', 'sars', 'mers', 'and', 'covid19', 'symptoms', 'in', 'other', 'species', 'vary', 'in', 'chickens', 'they', 'cause', 'an', 'upper', 'respiratory', 'tract', 'disease', 'while', 'in', 'cows', 'and', 'pigs', 'they', 'cause', 'diarrhea', 'there', 'are', 'yet', 'to', 'be', 'vaccines', 'or', 'antiviral', 'drugs', 'to', 'prevent', 'or', 'treat', 'human', 'coronavirus', 'infections', 'coronaviruses', 'constitute', 'the', 'subfamily', 'orthocoronavirinae', 'in', 'the', 'family', 'coronaviridae', 'order', 'nidovirales', 'and', 'realm', 'riboviria56', 'they', 'are', 'enveloped', 'viruses', 'with', 'a', 'positivesense', 'singlestranded', 'rna', 'genome', 'and', 'a', 'nucleocapsid', 'of', 'helical', 'symmetry', 'the', 'genome', 'size', 'of', 'coronaviruses', 'ranges', 'from', 'approximately', '27', 'to', '34', 'kilobases', 'the', 'largest', 'among', 'known', 'rna', 'viruses7', 'the', 'name', 'coronavirus', 'is', 'derived', 'from', 'the', 'latin', 'corona', 'meaning', 'crown', 'or', 'halo', 'which', 'refers', 'to', 'the', 'characteristic', 'appearance', 'reminiscent', 'of', 'a', 'crown', 'or', 'a', 'solar', 'corona', 'around', 'the', 'virions', 'virus', 'particles', 'when', 'viewed', 'under', 'twodimensional', 'transmission', 'electron', 'microscopy', 'due', 'to', 'the', 'surface', 'being', 'covered', 'in', 'clubshaped', 'protein', 'spikes', 'discovery', 'human', 'coronaviruses', 'were', 'first', 'discovered', 'in', 'the', 'late', '1960s8', 'the', 'earliest', 'ones', 'discovered', 'were', 'an', 'infectious', 'bronchitis', 'virus', 'in', 'chickens', 'and', 'two', 'in', 'human', 'patients', 'with', 'the', 'common', 'cold', 'later', 'named', 'human', 'coronavirus', '229e', 'and', 'human', 'coronavirus', 'oc439', 'other', 'members', 'of', 'this', 'family', 'have', 'since', 'been', 'identified', 'including', 'sarscov', 'in', '2003', 'hcov', 'nl63', 'in', '2004', 'hku1', 'in', '2005', 'merscov', 'in', '2012', 'and', 'sarscov2', 'formerly', 'known', 'as', '2019ncov', 'in', '2019', 'most', 'of', 'these', 'have', 'involved', 'serious', 'respiratory', 'tract', 'infections', 'etymology', 'the', 'name', 'coronavirus', 'is', 'derived', 'from', 'latin', 'corona', 'meaning', 'crown', 'or', 'wreath', 'itself', 'a', 'borrowing', 'from', 'greek', 'κορώνη', 'korṓnē', 'garland', 'wreath', 'the', 'name', 'refers', 'to', 'the', 'characteristic', 'appearance', 'of', 'virions', 'the', 'infective', 'form', 'of', 'the', 'virus', 'by', 'electron', 'microscopy', 'which', 'have', 'a', 'fringe', 'of', 'large', 'bulbous', 'surface', 'projections', 'creating', 'an', 'image', 'reminiscent', 'of', 'a', 'crown', 'or', 'of', 'a', 'solar', 'corona', 'this', 'morphology', 'is', 'created', 'by', 'the', 'viral', 'spike', 'peplomers', 'which', 'are', 'proteins', 'on', 'the', 'surface', 'of', 'the', 'virus1011', 'morphology', 'crosssectional', 'model', 'of', 'a', 'coronavirus', 'coronaviruses', 'are', 'large', 'pleomorphic', 'spherical', 'particles', 'with', 'bulbous', 'surface', 'projections12', 'the', 'diameter', 'of', 'the', 'virus', 'particles', 'is', 'around', '120', 'nm13', 'the', 'envelope', 'of', 'the', 'virus', 'in', 'electron', 'micrographs', 'appears', 'as', 'a', 'distinct', 'pair', 'of', 'electron', 'dense', 'shells14', 'the', 'viral', 'envelope', 'consists', 'of', 'a', 'lipid', 'bilayer', 'where', 'the', 'membrane', 'm', 'envelope', 'e', 'and', 'spike', 's', 'structural', 'proteins', 'are', 'anchored15', 'a', 'subset', 'of', 'coronaviruses', 'specifically', 'the', 'members', 'of', 'betacoronavirus', 'subgroup', 'a', 'also', 'have', 'a', 'shorter', 'spikelike', 'surface', 'protein', 'called', 'hemagglutinin', 'esterase', 'he5', 'inside', 'the', 'envelope', 'there', 'is', 'the', 'nucleocapsid', 'which', 'is', 'formed', 'from', 'multiple', 'copies', 'of', 'the', 'nucleocapsid', 'n', 'protein', 'which', 'are', 'bound', 'to', 'the', 'positivesense', 'singlestranded', 'rna', 'genome', 'in', 'a', 'continuous', 'beadsonastring', 'type', 'conformation1316', 'the', 'lipid', 'bilayer', 'envelope', 'membrane', 'proteins', 'and', 'nucleocapsid', 'protect', 'the', 'virus', 'when', 'it', 'is', 'outside', 'the', 'host', 'cell17', 'genome', 'schematic', 'representation', 'of', 'the', 'genome', 'organization', 'and', 'functional', 'domains', 'of', 's', 'protein', 'for', 'sarscov', 'and', 'merscov', 'coronaviruses', 'contain', 'a', 'positivesense', 'singlestranded', 'rna', 'genome', 'the', 'genome', 'size', 'for', 'coronaviruses', 'ranges', 'from', 'approximately', '27', 'to', '34', 'kilobases7', 'the', 'genome', 'size', 'is', 'one', 'of', 'the', 'largest', 'among', 'rna', 'viruses', 'the', 'genome', 'has', 'a', '5′', 'methylated', 'cap', 'and', 'a', '3′', 'polyadenylated', 'tail18', 'the', 'genome', 'organization', 'for', 'a', 'coronavirus', 'is', '5′leaderutrreplicasetranscriptasespike', 'senvelope', 'emembrane', 'mnucleocapsid', 'n3′utrpoly', 'a', 'tail', 'the', 'open', 'reading', 'frames', '1a', 'and', '1b', 'which', 'occupy', 'the', 'first', 'twothirds', 'of', 'the', 'genome', 'encode', 'the', 'replicasetranscriptase', 'polyprotein', 'the', 'replicasetranscriptase', 'polyprotein', 'self', 'cleaves', 'to', 'form', 'the', 'nonstructural', 'proteins', 'nsps19', 'the', 'later', 'reading', 'frames', 'encode', 'the', 'four', 'major', 'structural', 'proteins', 'spike', 'envelope', 'membrane', 'and', 'nucleocapsid20', 'interspersed', 'between', 'these', 'reading', 'frames', 'are', 'the', 'reading', 'frames', 'for', 'the', 'accessory', 'proteins', 'the', 'number', 'of', 'accessory', 'proteins', 'and', 'their', 'function', 'is', 'unique', 'depending', 'on', 'the', 'specific', 'coronavirus19', 'life', 'cycle', 'entry', 'the', 'life', 'cycle', 'of', 'a', 'coronavirus', 'infection', 'begins', 'when', 'the', 'viral', 'spike', 's', 'glycoprotein', 'attaches', 'to', 'its', 'complementary', 'host', 'cell', 'receptor', 'after', 'attachment', 'a', 'protease', 'of', 'the', 'host', 'cell', 'cleaves', 'and', 'activates', 'the', 'receptorattached', 'spike', 'protein', 'depending', 'on', 'the', 'host', 'cell', 'protease', 'available', 'cleavage', 'and', 'activation', 'allows', 'the', 'virus', 'to', 'enter', 'the', 'host', 'cell', 'by', 'endocytosis', 'or', 'direct', 'fusion', 'of', 'the', 'viral', 'envelop', 'with', 'the', 'host', 'membrane21', 'on', 'entry', 'into', 'the', 'host', 'cell', 'the', 'virus', 'particle', 'is', 'uncoated', 'and', 'its', 'genome', 'enters', 'the', 'cell', 'cytoplasm22', 'the', 'coronavirus', 'rna', 'genome', 'has', 'a', '5′', 'methylated', 'cap', 'and', 'a', '3′', 'polyadenylated', 'tail', 'which', 'allows', 'the', 'rna', 'to', 'attach', 'to', 'the', 'host', 'cells', 'ribosome', 'for', 'translation23', 'the', 'host', 'ribosome', 'translates', 'the', 'initial', 'overlapping', 'open', 'reading', 'frame', 'of', 'the', 'virus', 'genome', 'and', 'forms', 'a', 'long', 'polyprotein', 'the', 'polyprotein', 'has', 'its', 'own', 'proteases', 'which', 'cleave', 'the', 'polyprotein', 'into', 'multiple', 'nonstructural', 'proteins19', 'replication', 'a', 'number', 'of', 'the', 'nonstructural', 'proteins', 'coalesce', 'to', 'form', 'a', 'multiprotein', 'replicasetranscriptase', 'complex', 'rtc', 'the', 'main', 'replicasetranscriptase', 'protein', 'is', 'the', 'rnadependent', 'rna', 'polymerase', 'rdrp', 'it', 'is', 'directly', 'involved', 'in', 'the', 'replication', 'and', 'transcription', 'of', 'rna', 'from', 'an', 'rna', 'strand', 'the', 'other', 'nonstructural', 'proteins', 'in', 'the', 'complex', 'assist', 'in', 'the', 'replication', 'and', 'transcription', 'process', 'the', 'exoribonuclease', 'nonstructural', 'protein', 'for', 'instance', 'provides', 'extra', 'fidelity', 'to', 'replication', 'by', 'providing', 'a', 'proofreading', 'function', 'which', 'the', 'rnadependent', 'rna', 'polymerase', 'lacks24', 'one', 'of', 'the', 'main', 'functions', 'of', 'the', 'complex', 'is', 'to', 'replicate', 'the', 'viral', 'genome', 'rdrp', 'directly', 'mediates', 'the', 'synthesis', 'of', 'negativesense', 'genomic', 'rna', 'from', 'the', 'positivesense', 'genomic', 'rna', 'this', 'is', 'followed', 'by', 'the', 'replication', 'of', 'positivesense', 'genomic', 'rna', 'from', 'the', 'negativesense', 'genomic', 'rna19', 'the', 'other', 'important', 'function', 'of', 'the', 'complex', 'is', 'to', 'transcribe', 'the', 'viral', 'genome', 'rdrp', 'directly', 'mediates', 'the', 'synthesis', 'of', 'negativesense', 'subgenomic', 'rna', 'molecules', 'from', 'the', 'positivesense', 'genomic', 'rna', 'this', 'is', 'followed', 'by', 'the', 'transcription', 'of', 'these', 'negativesense', 'subgenomic', 'rna', 'molecules', 'to', 'their', 'corresponding', 'positivesense', 'mrnas19', 'release', 'the', 'replicated', 'positivesense', 'genomic', 'rna', 'becomes', 'the', 'genome', 'of', 'the', 'progeny', 'viruses', 'the', 'mrnas', 'are', 'gene', 'transcripts', 'of', 'the', 'last', 'third', 'of', 'the', 'virus', 'genome', 'after', 'the', 'initial', 'overlapping', 'reading', 'frame', 'these', 'mrnas', 'are', 'translated', 'by', 'the', 'hosts', 'ribosomes', 'into', 'the', 'structural', 'proteins', 'and', 'a', 'number', 'of', 'accessory', 'proteins19', 'rna', 'translation', 'occurs', 'inside', 'the', 'endoplasmic', 'reticulum', 'the', 'viral', 'structural', 'proteins', 's', 'e', 'and', 'm', 'move', 'along', 'the', 'secretory', 'pathway', 'into', 'the', 'golgi', 'intermediate', 'compartment', 'there', 'the', 'm', 'proteins', 'direct', 'most', 'proteinprotein', 'interactions', 'required', 'for', 'assembly', 'of', 'viruses', 'following', 'its', 'binding', 'to', 'the', 'nucleocapsid25', 'progeny', 'viruses', 'are', 'then', 'released', 'from', 'the', 'host', 'cell', 'by', 'exocytosis', 'through', 'secretory', 'vesicles25', 'transmission', 'human', 'to', 'human', 'transmission', 'of', 'coronaviruses', 'is', 'primarily', 'thought', 'to', 'occur', 'among', 'close', 'contacts', 'via', 'respiratory', 'droplets', 'generated', 'by', 'sneezing', 'and', 'coughing26', 'the', 'interaction', 'of', 'the', 'coronavirus', 'spike', 'protein', 'with', 'its', 'complement', 'host', 'cell', 'receptor', 'is', 'central', 'in', 'determining', 'the', 'tissue', 'tropism', 'infectivity', 'and', 'species', 'range', 'of', 'the', 'virus2728', 'the', 'sars', 'coronavirus', 'for', 'example', 'infects', 'human', 'cells', 'by', 'attaching', 'to', 'the', 'angiotensinconverting', 'enzyme', '2', 'ace2', 'receptor29', 'taxonomy', 'for', 'a', 'more', 'detailed', 'list', 'of', 'members', 'see', 'coronaviridae', 'phylogenetic', 'tree', 'of', 'coronaviruses', 'the', 'scientific', 'name', 'for', 'coronavirus', 'is', 'orthocoronavirinae', 'or', 'coronavirinae234', 'coronavirus', 'belongs', 'to', 'the', 'family', 'of', 'coronaviridae', 'evolution', 'the', 'most', 'recent', 'common', 'ancestor', 'mrca', 'of', 'all', 'coronaviruses', 'has', 'been', 'estimated', 'to', 'have', 'existed', 'as', 'recently', 'as', '8000', 'bce', 'though', 'some', 'models', 'place', 'the', 'mrca', 'as', 'far', 'back', 'as', '55', 'million', 'years', 'or', 'more', 'implying', 'long', 'term', 'coevolution', 'with', 'bats30', 'the', 'mrcas', 'of', 'the', 'alphacoronavirus', 'line', 'has', 'been', 'placed', 'at', 'about', '2400', 'bce', 'the', 'betacoronavirus', 'line', 'at', '3300', 'bce', 'the', 'gammacoronavirus', 'line', 'at', '2800', 'bce', 'and', 'the', 'deltacoronavirus', 'line', 'at', 'about', '3000', 'bce', 'it', 'appears', 'that', 'bats', 'and', 'birds', 'as', 'warmblooded', 'flying', 'vertebrates', 'are', 'ideal', 'hosts', 'for', 'the', 'coronavirus', 'gene', 'source', 'with', 'bats', 'for', 'alphacoronavirus', 'and', 'betacoronavirus', 'and', 'birds', 'for', 'gammacoronavirus', 'and', 'deltacoronavirus', 'to', 'fuel', 'coronavirus', 'evolution', 'and', 'dissemination31', 'bovine', 'coronavirus', 'and', 'canine', 'respiratory', 'coronaviruses', 'diverged', 'from', 'a', 'common', 'ancestor', 'recently', '195032', 'bovine', 'coronavirus', 'and', 'human', 'coronavirus', 'oc43', 'diverged', 'around', 'the', '1890s', 'bovine', 'coronavirus', 'diverged', 'from', 'the', 'equine', 'coronavirus', 'species', 'at', 'the', 'end', 'of', 'the', '18th', 'century33', 'the', 'mrca', 'of', 'human', 'coronavirus', 'oc43', 'has', 'been', 'dated', 'to', 'the', '1950s34', 'merscov', 'although', 'related', 'to', 'several', 'bat', 'coronavirus', 'species', 'appears', 'to', 'have', 'diverged', 'from', 'these', 'several', 'centuries', 'ago35', 'the', 'human', 'coronavirus', 'nl63', 'and', 'a', 'bat', 'coronavirus', 'shared', 'an', 'mrca', '563–822', 'years', 'ago36', 'the', 'most', 'closely', 'related', 'bat', 'coronavirus', 'and', 'sarscov', 'diverged', 'in', '198637', 'a', 'path', 'of', 'evolution', 'of', 'the', 'sars', 'virus', 'and', 'keen', 'relationship', 'with', 'bats', 'have', 'been', 'proposed', 'the', 'authors', 'suggest', 'that', 'the', 'coronaviruses', 'have', 'been', 'coevolved', 'with', 'bats', 'for', 'a', 'long', 'time', 'and', 'the', 'ancestors', 'of', 'sarscov', 'first', 'infected', 'the', 'species', 'of', 'the', 'genus', 'hipposideridae', 'subsequently', 'spread', 'to', 'species', 'of', 'the', 'rhinolophidae', 'and', 'then', 'to', 'civets', 'and', 'finally', 'to', 'humans3839', 'alpaca', 'coronavirus', 'and', 'human', 'coronavirus', '229e', 'diverged', 'before', '196040', 'human', 'coronaviruses', 'illustration', 'of', 'sarsrcov', 'virion', 'coronaviruses', 'vary', 'significantly', 'in', 'risk', 'factor', 'some', 'can', 'kill', 'more', 'than', '30', 'of', 'those', 'infected', 'such', 'as', 'merscov', 'and', 'some', 'are', 'relatively', 'harmless', 'such', 'as', 'the', 'common', 'cold19', 'coronaviruses', 'cause', 'colds', 'with', 'major', 'symptoms', 'such', 'as', 'fever', 'and', 'sore', 'throat', 'from', 'swollen', 'adenoids', 'occurring', 'primarily', 'in', 'the', 'winter', 'and', 'early', 'spring', 'seasons41', 'coronaviruses', 'can', 'cause', 'pneumonia', 'either', 'direct', 'viral', 'pneumonia', 'or', 'a', 'secondary', 'bacterial', 'pneumonia', 'and', 'bronchitis', 'either', 'direct', 'viral', 'bronchitis', 'or', 'a', 'secondary', 'bacterial', 'bronchitis42', 'the', 'much', 'publicized', 'human', 'coronavirus', 'discovered', 'in', '2003', 'sarscov', 'which', 'causes', 'severe', 'acute', 'respiratory', 'syndrome', 'sars', 'has', 'a', 'unique', 'pathogenesis', 'because', 'it', 'causes', 'both', 'upper', 'and', 'lower', 'respiratory', 'tract', 'infections42', 'seven', 'strains', 'of', 'human', 'coronaviruses', 'are', 'known', 'of', 'which', 'four', 'produce', 'the', 'generally', 'mild', 'symptoms', 'of', 'the', 'common', 'cold', '–', 'and', 'three', 'symptoms', 'that', 'are', 'potentially', 'severe', 'the', 'coronaviruses', 'hcov229e', 'nl63', 'oc43', 'and', 'hku1', 'continually', 'circulate', 'in', 'the', 'human', 'population', 'and', 'cause', 'respiratory', 'infections', 'in', 'adults', 'and', 'children', 'worldwide43', 'outbreaks', 'of', 'coronavirusrelated', 'diseases', 'outbreaks', 'of', 'coronavirus', 'types', 'of', 'relatively', 'high', 'mortality', 'are', 'as', 'follows', 'severe', 'acute', 'respiratory', 'syndrome', 'sars', 'in', '2003', 'following', 'the', 'outbreak', 'of', 'severe', 'acute', 'respiratory', 'syndrome', 'sars', 'which', 'had', 'begun', 'the', 'prior', 'year', 'in', 'asia', 'and', 'secondary', 'cases', 'elsewhere', 'in', 'the', 'world', 'the', 'world', 'health', 'organization', 'who', 'issued', 'a', 'press', 'release', 'stating', 'that', 'a', 'novel', 'coronavirus', 'identified', 'by', 'a', 'number', 'of', 'laboratories', 'was', 'the', 'causative', 'agent', 'for', 'sars', 'the', 'virus', 'was', 'officially', 'named', 'the', 'sars', 'coronavirus', 'sarscov', 'more', 'than', '8000', 'people', 'were', 'infected', 'about', 'ten', 'percent', 'of', 'whom', 'died29', 'middle', 'east', 'respiratory', 'syndrome', 'mers', 'in', 'september', '2012', 'a', 'new', 'type', 'of', 'coronavirus', 'was', 'identified', 'initially', 'called', 'novel', 'coronavirus', '2012', 'and', 'now', 'officially', 'named', 'middle', 'east', 'respiratory', 'syndrome', 'coronavirus', 'merscov4950', 'the', 'world', 'health', 'organization', 'issued', 'a', 'global', 'alert', 'soon', 'after51', 'the', 'who', 'update', 'on', '28', 'september', '2012', 'said', 'the', 'virus', 'did', 'not', 'seem', 'to', 'pass', 'easily', 'from', 'person', 'to', 'person52', 'however', 'on', '12', 'may', '2013', 'a', 'case', 'of', 'humantohuman', 'transmission', 'in', 'france', 'was', 'confirmed', 'by', 'the', 'french', 'ministry', 'of', 'social', 'affairs', 'and', 'health53', 'in', 'addition', 'cases', 'of', 'humantohuman', 'transmission', 'were', 'reported', 'by', 'the', 'ministry', 'of', 'health', 'in', 'tunisia', 'two', 'confirmed', 'cases', 'involved', 'people', 'who', 'seemed', 'to', 'have', 'caught', 'the', 'disease', 'from', 'their', 'late', 'father', 'who', 'became', 'ill', 'after', 'a', 'visit', 'to', 'qatar', 'and', 'saudi', 'arabia', 'despite', 'this', 'it', 'appears', 'the', 'virus', 'had', 'trouble', 'spreading', 'from', 'human', 'to', 'human', 'as', 'most', 'individuals', 'who', 'are', 'infected', 'do', 'not', 'transmit', 'the', 'virus54', 'by', '30', 'october', '2013', 'there', 'were', '124', 'cases', 'and', '52', 'deaths', 'in', 'saudi', 'arabia55', 'after', 'the', 'dutch', 'erasmus', 'medical', 'centre', 'sequenced', 'the', 'virus', 'the', 'virus', 'was', 'given', 'a', 'new', 'name', 'human', 'coronavirus–erasmus', 'medical', 'centre', 'hcovemc', 'the', 'final', 'name', 'for', 'the', 'virus', 'is', 'middle', 'east', 'respiratory', 'syndrome', 'coronavirus', 'merscov', 'in', 'may', '2014', 'the', 'only', 'two', 'united', 'states', 'cases', 'of', 'merscov', 'infection', 'were', 'recorded', 'both', 'occurring', 'in', 'healthcare', 'workers', 'who', 'worked', 'in', 'saudi', 'arabia', 'and', 'then', 'travelled', 'to', 'the', 'us', 'one', 'was', 'treated', 'in', 'indiana', 'and', 'one', 'in', 'florida', 'both', 'were', 'hospitalized', 'temporarily', 'and', 'then', 'discharged56', 'in', 'may', '2015', 'an', 'outbreak', 'of', 'merscov', 'occurred', 'in', 'the', 'republic', 'of', 'korea', 'when', 'a', 'man', 'who', 'had', 'traveled', 'to', 'the', 'middle', 'east', 'visited', '4', 'hospitals', 'in', 'the', 'seoul', 'area', 'to', 'treat', 'his', 'illness', 'this', 'caused', 'one', 'of', 'the', 'largest', 'outbreaks', 'of', 'merscov', 'outside', 'the', 'middle', 'east57', 'as', 'of', 'december', '2019', '2468', 'cases', 'of', 'merscov', 'infection', 'had', 'been', 'confirmed', 'by', 'laboratory', 'tests', '851', 'of', 'which', 'were', 'fatal', 'a', 'mortality', 'rate', 'of', 'approximately', '34558', 'coronavirus', 'disease', '2019', 'covid19', 'characteristics', 'of', 'patients', 'who', 'have', 'been', 'infected', 'with', 'sarscov2', 'merscov', 'and', 'sarscov59', 'sarscov2a', 'merscov', 'sarscov', 'demographic', 'detection', 'date', 'december', '2019', 'june', '2012', 'november', '2002', 'detection', 'place', 'wuhan', 'china', 'jeddah', 'saudi', 'arabia', 'guangdong', 'china', 'age', 'average', '49', '56', '399', 'age', 'range', 'clarification', 'needed', '21–76', '14–94', '1–91', 'malefemale', 'ratio', '271', '331', '1125', 'confirmed', 'cases', '207855b', '2494', '8096', 'case', 'fatality', 'rate', '8648b', '42', '858', '37', '744', '10', 'healthcare', 'workers', '16c', '98', '231', 'symptoms', 'fever', '40', '98', '98', '99–100', 'dry', 'cough', '31', '76', '47', '29–75', 'dyspnea', '22', '55', '72', '40–42', 'diarrhea', '1', '3', '26', '20–25', 'sore', 'throat', '0', '21', '13–25', 'ventilatory', 'support', '98', '80', '14–20', 'notes', 'symptoms', 'were', 'based', 'on', 'the', 'first', '41', 'patients', 'a', 'b', 'data', 'as', 'of', '18', 'march', '2020', 'data', 'as', 'of', '21', 'january', '2020', 'other', 'data', 'up', 'to', '21', 'january', '2020', 'published', 'on', '24', 'january', '2020', 'in', 'december', '2019', 'a', 'pneumonia', 'outbreak', 'was', 'reported', 'in', 'wuhan', 'china60', 'on', '31', 'december', '2019', 'the', 'outbreak', 'was', 'traced', 'to', 'a', 'novel', 'strain', 'of', 'coronavirus61', 'which', 'was', 'given', 'the', 'interim', 'name', '2019ncov', 'by', 'the', 'world', 'health', 'organization', 'who626364', 'later', 'renamed', 'sarscov2', 'by', 'the', 'international', 'committee', 'on', 'taxonomy', 'of', 'viruses', 'some', 'researchers', 'have', 'suggested', 'that', 'the', 'huanan', 'seafood', 'wholesale', 'market', 'may', 'not', 'be', 'the', 'original', 'source', 'of', 'viral', 'transmission', 'to', 'humans6566', 'as', 'of', '28', 'march', '2020', 'there', 'have', 'been', 'at', 'least', '2882348', 'confirmed', 'deaths', 'and', 'more', 'than', '61551948', 'confirmed', 'cases', 'in', 'the', 'coronavirus', 'pneumonia', 'pandemic', 'the', 'wuhan', 'strain', 'has', 'been', 'identified', 'as', 'a', 'new', 'strain', 'of', 'betacoronavirus', 'from', 'group', '2b', 'with', 'approximately', '70', 'genetic', 'similarity', 'to', 'the', 'sarscov67', 'the', 'virus', 'has', 'a', '96', 'similarity', 'to', 'a', 'bat', 'coronavirus', 'so', 'it', 'is', 'widely', 'suspected', 'to', 'originate', 'from', 'bats', 'as', 'well6568', 'the', 'pandemic', 'has', 'resulted', 'in', 'travel', 'restrictions', 'and', 'nationwide', 'lockdowns', 'in', 'several', 'countries', 'other', 'animals', 'coronaviruses', 'have', 'been', 'recognized', 'as', 'causing', 'pathological', 'conditions', 'in', 'veterinary', 'medicine', 'since', 'the', 'early', '1970s', 'except', 'for', 'avian', 'infectious', 'bronchitis', 'the', 'major', 'related', 'diseases', 'have', 'mainly', 'an', 'intestinal', 'location69', 'diseases', 'caused', 'coronaviruses', 'primarily', 'infect', 'the', 'upper', 'respiratory', 'and', 'gastrointestinal', 'tract', 'of', 'mammals', 'and', 'birds', 'they', 'also', 'cause', 'a', 'range', 'of', 'diseases', 'in', 'farm', 'animals', 'and', 'domesticated', 'pets', 'some', 'of', 'which', 'can', 'be', 'serious', 'and', 'are', 'a', 'threat', 'to', 'the', 'farming', 'industry', 'in', 'chickens', 'the', 'infectious', 'bronchitis', 'virus', 'ibv', 'a', 'coronavirus', 'targets', 'not', 'only', 'the', 'respiratory', 'tract', 'but', 'also', 'the', 'urogenital', 'tract', 'the', 'virus', 'can', 'spread', 'to', 'different', 'organs', 'throughout', 'the', 'chicken70', 'economically', 'significant', 'coronaviruses', 'of', 'farm', 'animals', 'include', 'porcine', 'coronavirus', 'transmissible', 'gastroenteritis', 'coronavirus', 'tge', 'and', 'bovine', 'coronavirus', 'which', 'both', 'result', 'in', 'diarrhea', 'in', 'young', 'animals', 'feline', 'coronavirus', 'two', 'forms', 'feline', 'enteric', 'coronavirus', 'is', 'a', 'pathogen', 'of', 'minor', 'clinical', 'significance', 'but', 'spontaneous', 'mutation', 'of', 'this', 'virus', 'can', 'result', 'in', 'feline', 'infectious', 'peritonitis', 'fip', 'a', 'disease', 'associated', 'with', 'high', 'mortality', 'similarly', 'there', 'are', 'two', 'types', 'of', 'coronavirus', 'that', 'infect', 'ferrets', 'ferret', 'enteric', 'coronavirus', 'causes', 'a', 'gastrointestinal', 'syndrome', 'known', 'as', 'epizootic', 'catarrhal', 'enteritis', 'ece', 'and', 'a', 'more', 'lethal', 'systemic', 'version', 'of', 'the', 'virus', 'like', 'fip', 'in', 'cats', 'known', 'as', 'ferret', 'systemic', 'coronavirus', 'fsc71', 'there', 'are', 'two', 'types', 'of', 'canine', 'coronavirus', 'ccov', 'one', 'that', 'causes', 'mild', 'gastrointestinal', 'disease', 'and', 'one', 'that', 'has', 'been', 'found', 'to', 'cause', 'respiratory', 'disease', 'mouse', 'hepatitis', 'virus', 'mhv', 'is', 'a', 'coronavirus', 'that', 'causes', 'an', 'epidemic', 'murine', 'illness', 'with', 'high', 'mortality', 'especially', 'among', 'colonies', 'of', 'laboratory', 'mice72', 'sialodacryoadenitis', 'virus', 'sdav', 'is', 'highly', 'infectious', 'coronavirus', 'of', 'laboratory', 'rats', 'which', 'can', 'be', 'transmitted', 'between', 'individuals', 'by', 'direct', 'contact', 'and', 'indirectly', 'by', 'aerosol', 'acute', 'infections', 'have', 'high', 'morbidity', 'and', 'tropism', 'for', 'the', 'salivary', 'lachrymal', 'and', 'harderian', 'glands73', 'a', 'hku2related', 'bat', 'coronavirus', 'called', 'swine', 'acute', 'diarrhea', 'syndrome', 'coronavirus', 'sadscov', 'causes', 'diarrhea', 'in', 'pigs74', 'prior', 'to', 'the', 'discovery', 'of', 'sarscov', 'mhv', 'had', 'been', 'the', 'beststudied', 'coronavirus', 'both', 'in', 'vivo', 'and', 'in', 'vitro', 'as', 'well', 'as', 'at', 'the', 'molecular', 'level', 'some', 'strains', 'of', 'mhv', 'cause', 'a', 'progressive', 'demyelinating', 'encephalitis', 'in', 'mice', 'which', 'has', 'been', 'used', 'as', 'a', 'murine', 'model', 'for', 'multiple', 'sclerosis', 'significant', 'research', 'efforts', 'have', 'been', 'focused', 'on', 'elucidating', 'the', 'viral', 'pathogenesis', 'of', 'these', 'animal', 'coronaviruses', 'especially', 'by', 'virologists', 'interested', 'in', 'veterinary', 'and', 'zoonotic', 'diseases75', 'in', 'domestic', 'animals', 'genomic', 'cisacting', 'elements', 'in', 'common', 'with', 'the', 'genomes', 'of', 'all', 'other', 'rna', 'viruses', 'coronavirus', 'genomes', 'contain', 'cisacting', 'rna', 'elements', 'that', 'ensure', 'the', 'specific', 'replication', 'of', 'viral', 'rna', 'by', 'a', 'virally', 'encoded', 'rnadependent', 'rna', 'polymerase', 'the', 'embedded', 'cisacting', 'elements', 'devoted', 'to', 'coronavirus', 'replication', 'constitute', 'a', 'small', 'fraction', 'of', 'the', 'total', 'genome', 'but', 'this', 'is', 'presumed', 'to', 'be', 'a', 'reflection', 'of', 'the', 'fact', 'that', 'coronaviruses', 'have', 'the', 'largest', 'genomes', 'of', 'all', 'rna', 'viruses', 'the', 'boundaries', 'of', 'cisacting', 'elements', 'essential', 'to', 'replication', 'are', 'fairly', 'welldefined', 'and', 'the', 'rna', 'secondary', 'structures', 'of', 'these', 'regions', 'are', 'understood', 'however', 'how', 'these', 'cisacting', 'structures', 'and', 'sequences', 'interact', 'with', 'the', 'viral', 'replicase', 'and', 'host', 'cell', 'components', 'to', 'allow', 'rna', 'synthesis', 'is', 'not', 'well', 'understood815', 'genome', 'packaging', 'the', 'assembly', 'of', 'infectious', 'coronavirus', 'particles', 'requires', 'the', 'selection', 'of', 'viral', 'genomic', 'rna', 'from', 'a', 'cellular', 'pool', 'that', 'contains', 'an', 'abundant', 'excess', 'of', 'nonviral', 'and', 'viral', 'rnas', 'among', 'the', 'seven', 'to', 'ten', 'specific', 'viral', 'mrnas', 'synthesized', 'in', 'virusinfected', 'cells', 'only', 'the', 'fulllength', 'genomic', 'rna', 'is', 'packaged', 'efficiently', 'into', 'coronavirus', 'particles', 'studies', 'have', 'revealed', 'cisacting', 'elements', 'and', 'transacting', 'viral', 'factors', 'involved', 'in', 'the', 'coronavirus', 'genome', 'encapsidation', 'and', 'packaging', 'understanding', 'the', 'molecular', 'mechanisms', 'of', 'genome', 'selection', 'and', 'packaging', 'is', 'critical', 'for', 'developing', 'antiviral', 'strategies', 'and', 'viral', 'expression', 'vectors', 'based', 'on', 'the', 'coronavirus', 'genome815', 'see', 'also', 'references']\n"
          ],
          "name": "stdout"
        }
      ]
    },
    {
      "cell_type": "code",
      "metadata": {
        "id": "HX7v1HqDiTgM",
        "colab_type": "code",
        "colab": {}
      },
      "source": [
        "#Keyword Matching\n",
        "\n",
        "#Greeting inputs\n",
        "GREETING_INPUT= [\"hi\",'hello','wagwan','hola','hey','whatup', 'whatsup', 'whats up']\n",
        "\n",
        "#Greeting responses\n",
        "GREETING_RESPONSES= [\"Hey!\", \"Nothing much, how about you!\", \"Howdy!\", \"What u dealin with\"]\n",
        "\n",
        "#retuning message\n",
        "def greeting(sentence):\n",
        "  for word in sentence.split():\n",
        "    if word.lower() in GREETING_INPUT:\n",
        "      return random.choice(GREETING_RESPONSES)"
      ],
      "execution_count": 0,
      "outputs": []
    },
    {
      "cell_type": "code",
      "metadata": {
        "id": "u4tiA5mepGIh",
        "colab_type": "code",
        "colab": {}
      },
      "source": [
        "\n",
        "def response(user_response):\n",
        "  #Setting up user queries\n",
        "  #user_response= 'what is coronavirus'\n",
        "\n",
        "  #making everything lower case\n",
        "  user_response= user_response.lower()\n",
        "\n",
        "  #setting chatbot response to empty string\n",
        "  robot_response= ''\n",
        "\n",
        "  #Append users response to sentence list\n",
        "  sent_tokens.append(user_response)\n",
        "\n",
        "  #Make a TfidVectorizer (term frequency and inverse document frequency (how rare term is)) Obj\n",
        "  TfidfVec= TfidfVectorizer(tokenizer= LemNormalize, stop_words='english')\n",
        "\n",
        "  #Convert txt to matrix of Tf-IDF features\n",
        "  tfidf= TfidfVec.fit_transform(sent_tokens) \n",
        "\n",
        "  #printing term frequency-inverse document\n",
        "  #print(tfidf)\n",
        "\n",
        "  #calculating how similar they are\n",
        "  vals= cosine_similarity(tfidf[-1], tfidf)\n",
        "\n",
        "  #printing the similarity scores\n",
        "  #print(vals)\n",
        "\n",
        "  #get the index of the most similar text/sentence to the users response\n",
        "  idx= vals.argsort()[0][-2]\n",
        "\n",
        "  #Reduce the dimentionality of vals \n",
        "  flat= vals.flatten()\n",
        "\n",
        "  #sort list in assending order\n",
        "  flat.sort()\n",
        "\n",
        "  #Get the most similar score to the users response \n",
        "  score= flat[-2]\n",
        "\n",
        "  #printing similarity score\n",
        "  #print(score)\n",
        "\n",
        "  #if variable 'score' is 0 then there is no text similar to the users response\n",
        "  if(score == 0):\n",
        "    robot_response= robot_response + \"Sorry, I don't know that one \"\n",
        "  else:\n",
        "    robot_response = robot_response + sent_tokens[idx]\n",
        "\n",
        "  #print chatbot response\n",
        "  print(robot_response)\n",
        "\n",
        "  #Remove the users response from the sentence tokens list\n",
        "  sent_tokens.remove(user_response)\n",
        "\n",
        "  return robot_response\n",
        "\n",
        "\n"
      ],
      "execution_count": 0,
      "outputs": []
    },
    {
      "cell_type": "code",
      "metadata": {
        "id": "UQsePLhF55gE",
        "colab_type": "code",
        "outputId": "bec280ee-5a7b-450d-cd4b-98b4e4461541",
        "colab": {
          "base_uri": "https://localhost:8080/",
          "height": 1000
        }
      },
      "source": [
        "flag= True\n",
        "print(\"Hey there, I am DocBot. Feel free to ask me any questions about the Coronavirus Pandemic. To leave chat, simply type Bye\")\n",
        "\n",
        "while(flag == True):\n",
        "  user_response= input()\n",
        "  user_response= user_response.lower()\n",
        "\n",
        "  if(user_response != 'bye'):\n",
        "    if (user_response == 'thanks' or user_response == 'thank you'):\n",
        "      flag= False\n",
        "      print(\"DocBot: Of Course, Anytime!\")\n",
        "    elif (user_response == 'cure to corona'):\n",
        "      print(\"A nice phat backwoods\")\n",
        "    else:\n",
        "      if(greeting(user_response) != None):\n",
        "        print(\"DocBot: \" + greeting(user_response))\n",
        "      else:\n",
        "        print(\"DocBot: \" + response(user_response))\n",
        "  else: \n",
        "    flag= False\n",
        "    print(\"DocBot: See you Later !\")"
      ],
      "execution_count": 0,
      "outputs": [
        {
          "output_type": "stream",
          "text": [
            "Hey there, I am DocBot. Feel free to ask me any questions about the Coronavirus Pandemic. To leave chat, simply type Bye\n",
            "wagwan\n",
            "DocBot: What u dealin with\n",
            "what is coronavirus\n",
            "[32] Bovine coronavirus and human coronavirus OC43 diverged around the 1890s.\n",
            "DocBot: [32] Bovine coronavirus and human coronavirus OC43 diverged around the 1890s.\n",
            "cure to corona\n",
            "A nice phat backwoods\n",
            "hi\n",
            "DocBot: Howdy!\n",
            "symptoms\n",
            "[42]\n",
            "\n",
            "Seven strains of human coronaviruses are known, of which four produce the generally mild symptoms of the common cold:\n",
            "\n",
            "– and three, symptoms that are potentially severe:\n",
            "\n",
            "The coronaviruses HCoV-229E, -NL63, -OC43, and -HKU1 continually circulate in the human population and cause respiratory infections in adults and children world-wide.\n",
            "DocBot: [42]\n",
            "\n",
            "Seven strains of human coronaviruses are known, of which four produce the generally mild symptoms of the common cold:\n",
            "\n",
            "– and three, symptoms that are potentially severe:\n",
            "\n",
            "The coronaviruses HCoV-229E, -NL63, -OC43, and -HKU1 continually circulate in the human population and cause respiratory infections in adults and children world-wide.\n",
            "latin name\n",
            "Etymology\n",
            "\n",
            "The name \"coronavirus\" is derived from Latin corona, meaning \"crown\" or \"wreath\", itself a borrowing from Greek κορώνη korṓnē, \"garland, wreath\".\n",
            "DocBot: Etymology\n",
            "\n",
            "The name \"coronavirus\" is derived from Latin corona, meaning \"crown\" or \"wreath\", itself a borrowing from Greek κορώνη korṓnē, \"garland, wreath\".\n",
            "cure to corona\n",
            "A nice phat backwoods\n"
          ],
          "name": "stdout"
        },
        {
          "output_type": "error",
          "ename": "KeyboardInterrupt",
          "evalue": "ignored",
          "traceback": [
            "\u001b[0;31m---------------------------------------------------------------------------\u001b[0m",
            "\u001b[0;31mKeyboardInterrupt\u001b[0m                         Traceback (most recent call last)",
            "\u001b[0;32m/usr/local/lib/python3.6/dist-packages/ipykernel/kernelbase.py\u001b[0m in \u001b[0;36m_input_request\u001b[0;34m(self, prompt, ident, parent, password)\u001b[0m\n\u001b[1;32m    729\u001b[0m             \u001b[0;32mtry\u001b[0m\u001b[0;34m:\u001b[0m\u001b[0;34m\u001b[0m\u001b[0;34m\u001b[0m\u001b[0m\n\u001b[0;32m--> 730\u001b[0;31m                 \u001b[0mident\u001b[0m\u001b[0;34m,\u001b[0m \u001b[0mreply\u001b[0m \u001b[0;34m=\u001b[0m \u001b[0mself\u001b[0m\u001b[0;34m.\u001b[0m\u001b[0msession\u001b[0m\u001b[0;34m.\u001b[0m\u001b[0mrecv\u001b[0m\u001b[0;34m(\u001b[0m\u001b[0mself\u001b[0m\u001b[0;34m.\u001b[0m\u001b[0mstdin_socket\u001b[0m\u001b[0;34m,\u001b[0m \u001b[0;36m0\u001b[0m\u001b[0;34m)\u001b[0m\u001b[0;34m\u001b[0m\u001b[0;34m\u001b[0m\u001b[0m\n\u001b[0m\u001b[1;32m    731\u001b[0m             \u001b[0;32mexcept\u001b[0m \u001b[0mException\u001b[0m\u001b[0;34m:\u001b[0m\u001b[0;34m\u001b[0m\u001b[0;34m\u001b[0m\u001b[0m\n",
            "\u001b[0;32m/usr/local/lib/python3.6/dist-packages/jupyter_client/session.py\u001b[0m in \u001b[0;36mrecv\u001b[0;34m(self, socket, mode, content, copy)\u001b[0m\n\u001b[1;32m    802\u001b[0m         \u001b[0;32mtry\u001b[0m\u001b[0;34m:\u001b[0m\u001b[0;34m\u001b[0m\u001b[0;34m\u001b[0m\u001b[0m\n\u001b[0;32m--> 803\u001b[0;31m             \u001b[0mmsg_list\u001b[0m \u001b[0;34m=\u001b[0m \u001b[0msocket\u001b[0m\u001b[0;34m.\u001b[0m\u001b[0mrecv_multipart\u001b[0m\u001b[0;34m(\u001b[0m\u001b[0mmode\u001b[0m\u001b[0;34m,\u001b[0m \u001b[0mcopy\u001b[0m\u001b[0;34m=\u001b[0m\u001b[0mcopy\u001b[0m\u001b[0;34m)\u001b[0m\u001b[0;34m\u001b[0m\u001b[0;34m\u001b[0m\u001b[0m\n\u001b[0m\u001b[1;32m    804\u001b[0m         \u001b[0;32mexcept\u001b[0m \u001b[0mzmq\u001b[0m\u001b[0;34m.\u001b[0m\u001b[0mZMQError\u001b[0m \u001b[0;32mas\u001b[0m \u001b[0me\u001b[0m\u001b[0;34m:\u001b[0m\u001b[0;34m\u001b[0m\u001b[0;34m\u001b[0m\u001b[0m\n",
            "\u001b[0;32m/usr/local/lib/python3.6/dist-packages/zmq/sugar/socket.py\u001b[0m in \u001b[0;36mrecv_multipart\u001b[0;34m(self, flags, copy, track)\u001b[0m\n\u001b[1;32m    465\u001b[0m         \"\"\"\n\u001b[0;32m--> 466\u001b[0;31m         \u001b[0mparts\u001b[0m \u001b[0;34m=\u001b[0m \u001b[0;34m[\u001b[0m\u001b[0mself\u001b[0m\u001b[0;34m.\u001b[0m\u001b[0mrecv\u001b[0m\u001b[0;34m(\u001b[0m\u001b[0mflags\u001b[0m\u001b[0;34m,\u001b[0m \u001b[0mcopy\u001b[0m\u001b[0;34m=\u001b[0m\u001b[0mcopy\u001b[0m\u001b[0;34m,\u001b[0m \u001b[0mtrack\u001b[0m\u001b[0;34m=\u001b[0m\u001b[0mtrack\u001b[0m\u001b[0;34m)\u001b[0m\u001b[0;34m]\u001b[0m\u001b[0;34m\u001b[0m\u001b[0;34m\u001b[0m\u001b[0m\n\u001b[0m\u001b[1;32m    467\u001b[0m         \u001b[0;31m# have first part already, only loop while more to receive\u001b[0m\u001b[0;34m\u001b[0m\u001b[0;34m\u001b[0m\u001b[0;34m\u001b[0m\u001b[0m\n",
            "\u001b[0;32mzmq/backend/cython/socket.pyx\u001b[0m in \u001b[0;36mzmq.backend.cython.socket.Socket.recv\u001b[0;34m()\u001b[0m\n",
            "\u001b[0;32mzmq/backend/cython/socket.pyx\u001b[0m in \u001b[0;36mzmq.backend.cython.socket.Socket.recv\u001b[0;34m()\u001b[0m\n",
            "\u001b[0;32mzmq/backend/cython/socket.pyx\u001b[0m in \u001b[0;36mzmq.backend.cython.socket._recv_copy\u001b[0;34m()\u001b[0m\n",
            "\u001b[0;32m/usr/local/lib/python3.6/dist-packages/zmq/backend/cython/checkrc.pxd\u001b[0m in \u001b[0;36mzmq.backend.cython.checkrc._check_rc\u001b[0;34m()\u001b[0m\n",
            "\u001b[0;31mKeyboardInterrupt\u001b[0m: ",
            "\nDuring handling of the above exception, another exception occurred:\n",
            "\u001b[0;31mKeyboardInterrupt\u001b[0m                         Traceback (most recent call last)",
            "\u001b[0;32m<ipython-input-29-3e3792f5bcfa>\u001b[0m in \u001b[0;36m<module>\u001b[0;34m()\u001b[0m\n\u001b[1;32m      3\u001b[0m \u001b[0;34m\u001b[0m\u001b[0m\n\u001b[1;32m      4\u001b[0m \u001b[0;32mwhile\u001b[0m\u001b[0;34m(\u001b[0m\u001b[0mflag\u001b[0m \u001b[0;34m==\u001b[0m \u001b[0;32mTrue\u001b[0m\u001b[0;34m)\u001b[0m\u001b[0;34m:\u001b[0m\u001b[0;34m\u001b[0m\u001b[0;34m\u001b[0m\u001b[0m\n\u001b[0;32m----> 5\u001b[0;31m   \u001b[0muser_response\u001b[0m\u001b[0;34m=\u001b[0m \u001b[0minput\u001b[0m\u001b[0;34m(\u001b[0m\u001b[0;34m)\u001b[0m\u001b[0;34m\u001b[0m\u001b[0;34m\u001b[0m\u001b[0m\n\u001b[0m\u001b[1;32m      6\u001b[0m   \u001b[0muser_response\u001b[0m\u001b[0;34m=\u001b[0m \u001b[0muser_response\u001b[0m\u001b[0;34m.\u001b[0m\u001b[0mlower\u001b[0m\u001b[0;34m(\u001b[0m\u001b[0;34m)\u001b[0m\u001b[0;34m\u001b[0m\u001b[0;34m\u001b[0m\u001b[0m\n\u001b[1;32m      7\u001b[0m \u001b[0;34m\u001b[0m\u001b[0m\n",
            "\u001b[0;32m/usr/local/lib/python3.6/dist-packages/ipykernel/kernelbase.py\u001b[0m in \u001b[0;36mraw_input\u001b[0;34m(self, prompt)\u001b[0m\n\u001b[1;32m    703\u001b[0m             \u001b[0mself\u001b[0m\u001b[0;34m.\u001b[0m\u001b[0m_parent_ident\u001b[0m\u001b[0;34m,\u001b[0m\u001b[0;34m\u001b[0m\u001b[0;34m\u001b[0m\u001b[0m\n\u001b[1;32m    704\u001b[0m             \u001b[0mself\u001b[0m\u001b[0;34m.\u001b[0m\u001b[0m_parent_header\u001b[0m\u001b[0;34m,\u001b[0m\u001b[0;34m\u001b[0m\u001b[0;34m\u001b[0m\u001b[0m\n\u001b[0;32m--> 705\u001b[0;31m             \u001b[0mpassword\u001b[0m\u001b[0;34m=\u001b[0m\u001b[0;32mFalse\u001b[0m\u001b[0;34m,\u001b[0m\u001b[0;34m\u001b[0m\u001b[0;34m\u001b[0m\u001b[0m\n\u001b[0m\u001b[1;32m    706\u001b[0m         )\n\u001b[1;32m    707\u001b[0m \u001b[0;34m\u001b[0m\u001b[0m\n",
            "\u001b[0;32m/usr/local/lib/python3.6/dist-packages/ipykernel/kernelbase.py\u001b[0m in \u001b[0;36m_input_request\u001b[0;34m(self, prompt, ident, parent, password)\u001b[0m\n\u001b[1;32m    733\u001b[0m             \u001b[0;32mexcept\u001b[0m \u001b[0mKeyboardInterrupt\u001b[0m\u001b[0;34m:\u001b[0m\u001b[0;34m\u001b[0m\u001b[0;34m\u001b[0m\u001b[0m\n\u001b[1;32m    734\u001b[0m                 \u001b[0;31m# re-raise KeyboardInterrupt, to truncate traceback\u001b[0m\u001b[0;34m\u001b[0m\u001b[0;34m\u001b[0m\u001b[0;34m\u001b[0m\u001b[0m\n\u001b[0;32m--> 735\u001b[0;31m                 \u001b[0;32mraise\u001b[0m \u001b[0mKeyboardInterrupt\u001b[0m\u001b[0;34m\u001b[0m\u001b[0;34m\u001b[0m\u001b[0m\n\u001b[0m\u001b[1;32m    736\u001b[0m             \u001b[0;32melse\u001b[0m\u001b[0;34m:\u001b[0m\u001b[0;34m\u001b[0m\u001b[0;34m\u001b[0m\u001b[0m\n\u001b[1;32m    737\u001b[0m                 \u001b[0;32mbreak\u001b[0m\u001b[0;34m\u001b[0m\u001b[0;34m\u001b[0m\u001b[0m\n",
            "\u001b[0;31mKeyboardInterrupt\u001b[0m: "
          ]
        }
      ]
    }
  ]
}